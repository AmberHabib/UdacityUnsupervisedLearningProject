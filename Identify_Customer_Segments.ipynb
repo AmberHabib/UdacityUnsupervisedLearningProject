{
 "cells": [
  {
   "cell_type": "markdown",
   "metadata": {},
   "source": [
    "# Project: Identify Customer Segments\n",
    "\n",
    "In this project, you will apply unsupervised learning techniques to identify segments of the population that form the core customer base for a mail-order sales company in Germany. These segments can then be used to direct marketing campaigns towards audiences that will have the highest expected rate of returns. The data that you will use has been provided by our partners at Bertelsmann Arvato Analytics, and represents a real-life data science task.\n",
    "\n",
    "This notebook will help you complete this task by providing a framework within which you will perform your analysis steps. In each step of the project, you will see some text describing the subtask that you will perform, followed by one or more code cells for you to complete your work. **Feel free to add additional code and markdown cells as you go along so that you can explore everything in precise chunks.** The code cells provided in the base template will outline only the major tasks, and will usually not be enough to cover all of the minor tasks that comprise it.\n",
    "\n",
    "It should be noted that while there will be precise guidelines on how you should handle certain tasks in the project, there will also be places where an exact specification is not provided. **There will be times in the project where you will need to make and justify your own decisions on how to treat the data.** These are places where there may not be only one way to handle the data. In real-life tasks, there may be many valid ways to approach an analysis task. One of the most important things you can do is clearly document your approach so that other scientists can understand the decisions you've made.\n",
    "\n",
    "At the end of most sections, there will be a Markdown cell labeled **Discussion**. In these cells, you will report your findings for the completed section, as well as document the decisions that you made in your approach to each subtask. **Your project will be evaluated not just on the code used to complete the tasks outlined, but also your communication about your observations and conclusions at each stage.**"
   ]
  },
  {
   "cell_type": "code",
   "execution_count": 2,
   "metadata": {},
   "outputs": [
    {
     "data": {
      "text/plain": [
       "'\\nImport note: The classroom currently uses sklearn version 0.19.\\nIf you need to use an imputer, it is available in sklearn.preprocessing.Imputer,\\ninstead of sklearn.impute as in newer versions of sklearn.\\n'"
      ]
     },
     "execution_count": 2,
     "metadata": {},
     "output_type": "execute_result"
    }
   ],
   "source": [
    "# import libraries here; add more as necessary\n",
    "import numpy as np\n",
    "import pandas as pd\n",
    "import matplotlib.pyplot as plt\n",
    "import seaborn as sns\n",
    "import warnings\n",
    "from sklearn.preprocessing import Imputer\n",
    "from sklearn.preprocessing import StandardScaler\n",
    "from sklearn.decomposition import PCA   \n",
    "from sklearn.cluster import KMeans\n",
    "# magic word for producing visualizations in notebook\n",
    "%matplotlib inline\n",
    "warnings.filterwarnings(\"ignore\")\n",
    "'''\n",
    "Import note: The classroom currently uses sklearn version 0.19.\n",
    "If you need to use an imputer, it is available in sklearn.preprocessing.Imputer,\n",
    "instead of sklearn.impute as in newer versions of sklearn.\n",
    "'''"
   ]
  },
  {
   "cell_type": "markdown",
   "metadata": {},
   "source": [
    "### Step 0: Load the Data\n",
    "\n",
    "There are four files associated with this project (not including this one):\n",
    "\n",
    "- `Udacity_AZDIAS_Subset.csv`: Demographics data for the general population of Germany; 891211 persons (rows) x 85 features (columns).\n",
    "- `Udacity_CUSTOMERS_Subset.csv`: Demographics data for customers of a mail-order company; 191652 persons (rows) x 85 features (columns).\n",
    "- `Data_Dictionary.md`: Detailed information file about the features in the provided datasets.\n",
    "- `AZDIAS_Feature_Summary.csv`: Summary of feature attributes for demographics data; 85 features (rows) x 4 columns\n",
    "\n",
    "Each row of the demographics files represents a single person, but also includes information outside of individuals, including information about their household, building, and neighborhood. You will use this information to cluster the general population into groups with similar demographic properties. Then, you will see how the people in the customers dataset fit into those created clusters. The hope here is that certain clusters are over-represented in the customers data, as compared to the general population; those over-represented clusters will be assumed to be part of the core userbase. This information can then be used for further applications, such as targeting for a marketing campaign.\n",
    "\n",
    "To start off with, load in the demographics data for the general population into a pandas DataFrame, and do the same for the feature attributes summary. Note for all of the `.csv` data files in this project: they're semicolon (`;`) delimited, so you'll need an additional argument in your [`read_csv()`](https://pandas.pydata.org/pandas-docs/stable/generated/pandas.read_csv.html) call to read in the data properly. Also, considering the size of the main dataset, it may take some time for it to load completely.\n",
    "\n",
    "Once the dataset is loaded, it's recommended that you take a little bit of time just browsing the general structure of the dataset and feature summary file. You'll be getting deep into the innards of the cleaning in the first major step of the project, so gaining some general familiarity can help you get your bearings."
   ]
  },
  {
   "cell_type": "code",
   "execution_count": 3,
   "metadata": {},
   "outputs": [],
   "source": [
    "# Load in the general demographics data.\n",
    "azdias = pd.read_csv(\"Udacity_AZDIAS_Subset.csv\", delimiter = \";\")\n",
    "\n",
    "# Load in the feature summary file.\n",
    "feat_info = pd.read_csv(\"AZDIAS_Feature_Summary.csv\", delimiter = \";\")"
   ]
  },
  {
   "cell_type": "code",
   "execution_count": 4,
   "metadata": {},
   "outputs": [
    {
     "data": {
      "text/html": [
       "<div>\n",
       "<style scoped>\n",
       "    .dataframe tbody tr th:only-of-type {\n",
       "        vertical-align: middle;\n",
       "    }\n",
       "\n",
       "    .dataframe tbody tr th {\n",
       "        vertical-align: top;\n",
       "    }\n",
       "\n",
       "    .dataframe thead th {\n",
       "        text-align: right;\n",
       "    }\n",
       "</style>\n",
       "<table border=\"1\" class=\"dataframe\">\n",
       "  <thead>\n",
       "    <tr style=\"text-align: right;\">\n",
       "      <th></th>\n",
       "      <th>AGER_TYP</th>\n",
       "      <th>ALTERSKATEGORIE_GROB</th>\n",
       "      <th>ANREDE_KZ</th>\n",
       "      <th>CJT_GESAMTTYP</th>\n",
       "      <th>FINANZ_MINIMALIST</th>\n",
       "      <th>FINANZ_SPARER</th>\n",
       "      <th>FINANZ_VORSORGER</th>\n",
       "      <th>FINANZ_ANLEGER</th>\n",
       "      <th>FINANZ_UNAUFFAELLIGER</th>\n",
       "      <th>FINANZ_HAUSBAUER</th>\n",
       "      <th>...</th>\n",
       "      <th>PLZ8_ANTG1</th>\n",
       "      <th>PLZ8_ANTG2</th>\n",
       "      <th>PLZ8_ANTG3</th>\n",
       "      <th>PLZ8_ANTG4</th>\n",
       "      <th>PLZ8_BAUMAX</th>\n",
       "      <th>PLZ8_HHZ</th>\n",
       "      <th>PLZ8_GBZ</th>\n",
       "      <th>ARBEIT</th>\n",
       "      <th>ORTSGR_KLS9</th>\n",
       "      <th>RELAT_AB</th>\n",
       "    </tr>\n",
       "  </thead>\n",
       "  <tbody>\n",
       "    <tr>\n",
       "      <th>0</th>\n",
       "      <td>-1</td>\n",
       "      <td>2</td>\n",
       "      <td>1</td>\n",
       "      <td>2.0</td>\n",
       "      <td>3</td>\n",
       "      <td>4</td>\n",
       "      <td>3</td>\n",
       "      <td>5</td>\n",
       "      <td>5</td>\n",
       "      <td>3</td>\n",
       "      <td>...</td>\n",
       "      <td>NaN</td>\n",
       "      <td>NaN</td>\n",
       "      <td>NaN</td>\n",
       "      <td>NaN</td>\n",
       "      <td>NaN</td>\n",
       "      <td>NaN</td>\n",
       "      <td>NaN</td>\n",
       "      <td>NaN</td>\n",
       "      <td>NaN</td>\n",
       "      <td>NaN</td>\n",
       "    </tr>\n",
       "    <tr>\n",
       "      <th>1</th>\n",
       "      <td>-1</td>\n",
       "      <td>1</td>\n",
       "      <td>2</td>\n",
       "      <td>5.0</td>\n",
       "      <td>1</td>\n",
       "      <td>5</td>\n",
       "      <td>2</td>\n",
       "      <td>5</td>\n",
       "      <td>4</td>\n",
       "      <td>5</td>\n",
       "      <td>...</td>\n",
       "      <td>2.0</td>\n",
       "      <td>3.0</td>\n",
       "      <td>2.0</td>\n",
       "      <td>1.0</td>\n",
       "      <td>1.0</td>\n",
       "      <td>5.0</td>\n",
       "      <td>4.0</td>\n",
       "      <td>3.0</td>\n",
       "      <td>5.0</td>\n",
       "      <td>4.0</td>\n",
       "    </tr>\n",
       "    <tr>\n",
       "      <th>2</th>\n",
       "      <td>-1</td>\n",
       "      <td>3</td>\n",
       "      <td>2</td>\n",
       "      <td>3.0</td>\n",
       "      <td>1</td>\n",
       "      <td>4</td>\n",
       "      <td>1</td>\n",
       "      <td>2</td>\n",
       "      <td>3</td>\n",
       "      <td>5</td>\n",
       "      <td>...</td>\n",
       "      <td>3.0</td>\n",
       "      <td>3.0</td>\n",
       "      <td>1.0</td>\n",
       "      <td>0.0</td>\n",
       "      <td>1.0</td>\n",
       "      <td>4.0</td>\n",
       "      <td>4.0</td>\n",
       "      <td>3.0</td>\n",
       "      <td>5.0</td>\n",
       "      <td>2.0</td>\n",
       "    </tr>\n",
       "    <tr>\n",
       "      <th>3</th>\n",
       "      <td>2</td>\n",
       "      <td>4</td>\n",
       "      <td>2</td>\n",
       "      <td>2.0</td>\n",
       "      <td>4</td>\n",
       "      <td>2</td>\n",
       "      <td>5</td>\n",
       "      <td>2</td>\n",
       "      <td>1</td>\n",
       "      <td>2</td>\n",
       "      <td>...</td>\n",
       "      <td>2.0</td>\n",
       "      <td>2.0</td>\n",
       "      <td>2.0</td>\n",
       "      <td>0.0</td>\n",
       "      <td>1.0</td>\n",
       "      <td>3.0</td>\n",
       "      <td>4.0</td>\n",
       "      <td>2.0</td>\n",
       "      <td>3.0</td>\n",
       "      <td>3.0</td>\n",
       "    </tr>\n",
       "    <tr>\n",
       "      <th>4</th>\n",
       "      <td>-1</td>\n",
       "      <td>3</td>\n",
       "      <td>1</td>\n",
       "      <td>5.0</td>\n",
       "      <td>4</td>\n",
       "      <td>3</td>\n",
       "      <td>4</td>\n",
       "      <td>1</td>\n",
       "      <td>3</td>\n",
       "      <td>2</td>\n",
       "      <td>...</td>\n",
       "      <td>2.0</td>\n",
       "      <td>4.0</td>\n",
       "      <td>2.0</td>\n",
       "      <td>1.0</td>\n",
       "      <td>2.0</td>\n",
       "      <td>3.0</td>\n",
       "      <td>3.0</td>\n",
       "      <td>4.0</td>\n",
       "      <td>6.0</td>\n",
       "      <td>5.0</td>\n",
       "    </tr>\n",
       "  </tbody>\n",
       "</table>\n",
       "<p>5 rows × 85 columns</p>\n",
       "</div>"
      ],
      "text/plain": [
       "   AGER_TYP  ALTERSKATEGORIE_GROB  ANREDE_KZ  CJT_GESAMTTYP  \\\n",
       "0        -1                     2          1            2.0   \n",
       "1        -1                     1          2            5.0   \n",
       "2        -1                     3          2            3.0   \n",
       "3         2                     4          2            2.0   \n",
       "4        -1                     3          1            5.0   \n",
       "\n",
       "   FINANZ_MINIMALIST  FINANZ_SPARER  FINANZ_VORSORGER  FINANZ_ANLEGER  \\\n",
       "0                  3              4                 3               5   \n",
       "1                  1              5                 2               5   \n",
       "2                  1              4                 1               2   \n",
       "3                  4              2                 5               2   \n",
       "4                  4              3                 4               1   \n",
       "\n",
       "   FINANZ_UNAUFFAELLIGER  FINANZ_HAUSBAUER    ...     PLZ8_ANTG1  PLZ8_ANTG2  \\\n",
       "0                      5                 3    ...            NaN         NaN   \n",
       "1                      4                 5    ...            2.0         3.0   \n",
       "2                      3                 5    ...            3.0         3.0   \n",
       "3                      1                 2    ...            2.0         2.0   \n",
       "4                      3                 2    ...            2.0         4.0   \n",
       "\n",
       "   PLZ8_ANTG3  PLZ8_ANTG4  PLZ8_BAUMAX  PLZ8_HHZ  PLZ8_GBZ  ARBEIT  \\\n",
       "0         NaN         NaN          NaN       NaN       NaN     NaN   \n",
       "1         2.0         1.0          1.0       5.0       4.0     3.0   \n",
       "2         1.0         0.0          1.0       4.0       4.0     3.0   \n",
       "3         2.0         0.0          1.0       3.0       4.0     2.0   \n",
       "4         2.0         1.0          2.0       3.0       3.0     4.0   \n",
       "\n",
       "   ORTSGR_KLS9  RELAT_AB  \n",
       "0          NaN       NaN  \n",
       "1          5.0       4.0  \n",
       "2          5.0       2.0  \n",
       "3          3.0       3.0  \n",
       "4          6.0       5.0  \n",
       "\n",
       "[5 rows x 85 columns]"
      ]
     },
     "execution_count": 4,
     "metadata": {},
     "output_type": "execute_result"
    }
   ],
   "source": [
    "# Check the structure of the data after it's loaded (e.g. print the number of\n",
    "# rows and columns, print the first few rows).\n",
    "#azdias.info()\n",
    "azdias.head()\n"
   ]
  },
  {
   "cell_type": "code",
   "execution_count": 5,
   "metadata": {},
   "outputs": [
    {
     "name": "stdout",
     "output_type": "stream",
     "text": [
      "<class 'pandas.core.frame.DataFrame'>\n",
      "RangeIndex: 85 entries, 0 to 84\n",
      "Data columns (total 4 columns):\n",
      "attribute             85 non-null object\n",
      "information_level     85 non-null object\n",
      "type                  85 non-null object\n",
      "missing_or_unknown    85 non-null object\n",
      "dtypes: object(4)\n",
      "memory usage: 2.7+ KB\n"
     ]
    },
    {
     "data": {
      "text/html": [
       "<div>\n",
       "<style scoped>\n",
       "    .dataframe tbody tr th:only-of-type {\n",
       "        vertical-align: middle;\n",
       "    }\n",
       "\n",
       "    .dataframe tbody tr th {\n",
       "        vertical-align: top;\n",
       "    }\n",
       "\n",
       "    .dataframe thead th {\n",
       "        text-align: right;\n",
       "    }\n",
       "</style>\n",
       "<table border=\"1\" class=\"dataframe\">\n",
       "  <thead>\n",
       "    <tr style=\"text-align: right;\">\n",
       "      <th></th>\n",
       "      <th>attribute</th>\n",
       "      <th>information_level</th>\n",
       "      <th>type</th>\n",
       "      <th>missing_or_unknown</th>\n",
       "    </tr>\n",
       "  </thead>\n",
       "  <tbody>\n",
       "    <tr>\n",
       "      <th>0</th>\n",
       "      <td>AGER_TYP</td>\n",
       "      <td>person</td>\n",
       "      <td>categorical</td>\n",
       "      <td>[-1,0]</td>\n",
       "    </tr>\n",
       "    <tr>\n",
       "      <th>1</th>\n",
       "      <td>ALTERSKATEGORIE_GROB</td>\n",
       "      <td>person</td>\n",
       "      <td>ordinal</td>\n",
       "      <td>[-1,0,9]</td>\n",
       "    </tr>\n",
       "    <tr>\n",
       "      <th>2</th>\n",
       "      <td>ANREDE_KZ</td>\n",
       "      <td>person</td>\n",
       "      <td>categorical</td>\n",
       "      <td>[-1,0]</td>\n",
       "    </tr>\n",
       "    <tr>\n",
       "      <th>3</th>\n",
       "      <td>CJT_GESAMTTYP</td>\n",
       "      <td>person</td>\n",
       "      <td>categorical</td>\n",
       "      <td>[0]</td>\n",
       "    </tr>\n",
       "    <tr>\n",
       "      <th>4</th>\n",
       "      <td>FINANZ_MINIMALIST</td>\n",
       "      <td>person</td>\n",
       "      <td>ordinal</td>\n",
       "      <td>[-1]</td>\n",
       "    </tr>\n",
       "  </tbody>\n",
       "</table>\n",
       "</div>"
      ],
      "text/plain": [
       "              attribute information_level         type missing_or_unknown\n",
       "0              AGER_TYP            person  categorical             [-1,0]\n",
       "1  ALTERSKATEGORIE_GROB            person      ordinal           [-1,0,9]\n",
       "2             ANREDE_KZ            person  categorical             [-1,0]\n",
       "3         CJT_GESAMTTYP            person  categorical                [0]\n",
       "4     FINANZ_MINIMALIST            person      ordinal               [-1]"
      ]
     },
     "execution_count": 5,
     "metadata": {},
     "output_type": "execute_result"
    }
   ],
   "source": [
    "feat_info.info()\n",
    "feat_info.head()"
   ]
  },
  {
   "cell_type": "markdown",
   "metadata": {},
   "source": [
    "> **Tip**: Add additional cells to keep everything in reasonably-sized chunks! Keyboard shortcut `esc --> a` (press escape to enter command mode, then press the 'A' key) adds a new cell before the active cell, and `esc --> b` adds a new cell after the active cell. If you need to convert an active cell to a markdown cell, use `esc --> m` and to convert to a code cell, use `esc --> y`. \n",
    "\n",
    "## Step 1: Preprocessing\n",
    "\n",
    "### Step 1.1: Assess Missing Data\n",
    "\n",
    "The feature summary file contains a summary of properties for each demographics data column. You will use this file to help you make cleaning decisions during this stage of the project. First of all, you should assess the demographics data in terms of missing data. Pay attention to the following points as you perform your analysis, and take notes on what you observe. Make sure that you fill in the **Discussion** cell with your findings and decisions at the end of each step that has one!\n",
    "\n",
    "#### Step 1.1.1: Convert Missing Value Codes to NaNs\n",
    "The fourth column of the feature attributes summary (loaded in above as `feat_info`) documents the codes from the data dictionary that indicate missing or unknown data. While the file encodes this as a list (e.g. `[-1,0]`), this will get read in as a string object. You'll need to do a little bit of parsing to make use of it to identify and clean the data. Convert data that matches a 'missing' or 'unknown' value code into a numpy NaN value. You might want to see how much data takes on a 'missing' or 'unknown' code, and how much data is naturally missing, as a point of interest.\n",
    "\n",
    "**As one more reminder, you are encouraged to add additional cells to break up your analysis into manageable chunks.**"
   ]
  },
  {
   "cell_type": "code",
   "execution_count": 6,
   "metadata": {},
   "outputs": [
    {
     "data": {
      "text/html": [
       "<div>\n",
       "<style scoped>\n",
       "    .dataframe tbody tr th:only-of-type {\n",
       "        vertical-align: middle;\n",
       "    }\n",
       "\n",
       "    .dataframe tbody tr th {\n",
       "        vertical-align: top;\n",
       "    }\n",
       "\n",
       "    .dataframe thead th {\n",
       "        text-align: right;\n",
       "    }\n",
       "</style>\n",
       "<table border=\"1\" class=\"dataframe\">\n",
       "  <thead>\n",
       "    <tr style=\"text-align: right;\">\n",
       "      <th></th>\n",
       "      <th>AGER_TYP</th>\n",
       "      <th>ALTERSKATEGORIE_GROB</th>\n",
       "      <th>ANREDE_KZ</th>\n",
       "      <th>CJT_GESAMTTYP</th>\n",
       "      <th>FINANZ_MINIMALIST</th>\n",
       "      <th>FINANZ_SPARER</th>\n",
       "      <th>FINANZ_VORSORGER</th>\n",
       "      <th>FINANZ_ANLEGER</th>\n",
       "      <th>FINANZ_UNAUFFAELLIGER</th>\n",
       "      <th>FINANZ_HAUSBAUER</th>\n",
       "      <th>...</th>\n",
       "      <th>PLZ8_ANTG1</th>\n",
       "      <th>PLZ8_ANTG2</th>\n",
       "      <th>PLZ8_ANTG3</th>\n",
       "      <th>PLZ8_ANTG4</th>\n",
       "      <th>PLZ8_BAUMAX</th>\n",
       "      <th>PLZ8_HHZ</th>\n",
       "      <th>PLZ8_GBZ</th>\n",
       "      <th>ARBEIT</th>\n",
       "      <th>ORTSGR_KLS9</th>\n",
       "      <th>RELAT_AB</th>\n",
       "    </tr>\n",
       "  </thead>\n",
       "  <tbody>\n",
       "    <tr>\n",
       "      <th>0</th>\n",
       "      <td>NaN</td>\n",
       "      <td>2.0</td>\n",
       "      <td>1</td>\n",
       "      <td>2.0</td>\n",
       "      <td>3</td>\n",
       "      <td>4</td>\n",
       "      <td>3</td>\n",
       "      <td>5</td>\n",
       "      <td>5</td>\n",
       "      <td>3</td>\n",
       "      <td>...</td>\n",
       "      <td>NaN</td>\n",
       "      <td>NaN</td>\n",
       "      <td>NaN</td>\n",
       "      <td>NaN</td>\n",
       "      <td>NaN</td>\n",
       "      <td>NaN</td>\n",
       "      <td>NaN</td>\n",
       "      <td>NaN</td>\n",
       "      <td>NaN</td>\n",
       "      <td>NaN</td>\n",
       "    </tr>\n",
       "    <tr>\n",
       "      <th>1</th>\n",
       "      <td>NaN</td>\n",
       "      <td>1.0</td>\n",
       "      <td>2</td>\n",
       "      <td>5.0</td>\n",
       "      <td>1</td>\n",
       "      <td>5</td>\n",
       "      <td>2</td>\n",
       "      <td>5</td>\n",
       "      <td>4</td>\n",
       "      <td>5</td>\n",
       "      <td>...</td>\n",
       "      <td>2.0</td>\n",
       "      <td>3.0</td>\n",
       "      <td>2.0</td>\n",
       "      <td>1.0</td>\n",
       "      <td>1.0</td>\n",
       "      <td>5.0</td>\n",
       "      <td>4.0</td>\n",
       "      <td>3.0</td>\n",
       "      <td>5.0</td>\n",
       "      <td>4.0</td>\n",
       "    </tr>\n",
       "    <tr>\n",
       "      <th>2</th>\n",
       "      <td>NaN</td>\n",
       "      <td>3.0</td>\n",
       "      <td>2</td>\n",
       "      <td>3.0</td>\n",
       "      <td>1</td>\n",
       "      <td>4</td>\n",
       "      <td>1</td>\n",
       "      <td>2</td>\n",
       "      <td>3</td>\n",
       "      <td>5</td>\n",
       "      <td>...</td>\n",
       "      <td>3.0</td>\n",
       "      <td>3.0</td>\n",
       "      <td>1.0</td>\n",
       "      <td>0.0</td>\n",
       "      <td>1.0</td>\n",
       "      <td>4.0</td>\n",
       "      <td>4.0</td>\n",
       "      <td>3.0</td>\n",
       "      <td>5.0</td>\n",
       "      <td>2.0</td>\n",
       "    </tr>\n",
       "    <tr>\n",
       "      <th>3</th>\n",
       "      <td>2.0</td>\n",
       "      <td>4.0</td>\n",
       "      <td>2</td>\n",
       "      <td>2.0</td>\n",
       "      <td>4</td>\n",
       "      <td>2</td>\n",
       "      <td>5</td>\n",
       "      <td>2</td>\n",
       "      <td>1</td>\n",
       "      <td>2</td>\n",
       "      <td>...</td>\n",
       "      <td>2.0</td>\n",
       "      <td>2.0</td>\n",
       "      <td>2.0</td>\n",
       "      <td>0.0</td>\n",
       "      <td>1.0</td>\n",
       "      <td>3.0</td>\n",
       "      <td>4.0</td>\n",
       "      <td>2.0</td>\n",
       "      <td>3.0</td>\n",
       "      <td>3.0</td>\n",
       "    </tr>\n",
       "    <tr>\n",
       "      <th>4</th>\n",
       "      <td>NaN</td>\n",
       "      <td>3.0</td>\n",
       "      <td>1</td>\n",
       "      <td>5.0</td>\n",
       "      <td>4</td>\n",
       "      <td>3</td>\n",
       "      <td>4</td>\n",
       "      <td>1</td>\n",
       "      <td>3</td>\n",
       "      <td>2</td>\n",
       "      <td>...</td>\n",
       "      <td>2.0</td>\n",
       "      <td>4.0</td>\n",
       "      <td>2.0</td>\n",
       "      <td>1.0</td>\n",
       "      <td>2.0</td>\n",
       "      <td>3.0</td>\n",
       "      <td>3.0</td>\n",
       "      <td>4.0</td>\n",
       "      <td>6.0</td>\n",
       "      <td>5.0</td>\n",
       "    </tr>\n",
       "  </tbody>\n",
       "</table>\n",
       "<p>5 rows × 85 columns</p>\n",
       "</div>"
      ],
      "text/plain": [
       "   AGER_TYP  ALTERSKATEGORIE_GROB  ANREDE_KZ  CJT_GESAMTTYP  \\\n",
       "0       NaN                   2.0          1            2.0   \n",
       "1       NaN                   1.0          2            5.0   \n",
       "2       NaN                   3.0          2            3.0   \n",
       "3       2.0                   4.0          2            2.0   \n",
       "4       NaN                   3.0          1            5.0   \n",
       "\n",
       "   FINANZ_MINIMALIST  FINANZ_SPARER  FINANZ_VORSORGER  FINANZ_ANLEGER  \\\n",
       "0                  3              4                 3               5   \n",
       "1                  1              5                 2               5   \n",
       "2                  1              4                 1               2   \n",
       "3                  4              2                 5               2   \n",
       "4                  4              3                 4               1   \n",
       "\n",
       "   FINANZ_UNAUFFAELLIGER  FINANZ_HAUSBAUER    ...     PLZ8_ANTG1  PLZ8_ANTG2  \\\n",
       "0                      5                 3    ...            NaN         NaN   \n",
       "1                      4                 5    ...            2.0         3.0   \n",
       "2                      3                 5    ...            3.0         3.0   \n",
       "3                      1                 2    ...            2.0         2.0   \n",
       "4                      3                 2    ...            2.0         4.0   \n",
       "\n",
       "   PLZ8_ANTG3  PLZ8_ANTG4  PLZ8_BAUMAX  PLZ8_HHZ  PLZ8_GBZ  ARBEIT  \\\n",
       "0         NaN         NaN          NaN       NaN       NaN     NaN   \n",
       "1         2.0         1.0          1.0       5.0       4.0     3.0   \n",
       "2         1.0         0.0          1.0       4.0       4.0     3.0   \n",
       "3         2.0         0.0          1.0       3.0       4.0     2.0   \n",
       "4         2.0         1.0          2.0       3.0       3.0     4.0   \n",
       "\n",
       "   ORTSGR_KLS9  RELAT_AB  \n",
       "0          NaN       NaN  \n",
       "1          5.0       4.0  \n",
       "2          5.0       2.0  \n",
       "3          3.0       3.0  \n",
       "4          6.0       5.0  \n",
       "\n",
       "[5 rows x 85 columns]"
      ]
     },
     "execution_count": 6,
     "metadata": {},
     "output_type": "execute_result"
    }
   ],
   "source": [
    "# Identify missing or unknown data values and convert them to NaNs.\n",
    "for attribute in feat_info['attribute']:\n",
    "\n",
    "    temp = feat_info[feat_info['attribute']==attribute].missing_or_unknown.iloc[0].strip('[]').split(',')\n",
    "    \n",
    "    nan_list = [float(x) if x.lstrip('-').isnumeric() else x for x in temp]\n",
    "    #lstrip for getting rid of the negative sign in the string\n",
    "    #isnumeric checks whether it is number or not\n",
    "    \n",
    "\n",
    "    azdias[attribute].replace(to_replace=nan_list,\n",
    "                      value=np.nan, inplace=True)\n",
    "azdias.head()"
   ]
  },
  {
   "cell_type": "markdown",
   "metadata": {},
   "source": [
    "#### Step 1.1.2: Assess Missing Data in Each Column\n",
    "\n",
    "How much missing data is present in each column? There are a few columns that are outliers in terms of the proportion of values that are missing. You will want to use matplotlib's [`hist()`](https://matplotlib.org/api/_as_gen/matplotlib.pyplot.hist.html) function to visualize the distribution of missing value counts to find these columns. Identify and document these columns. While some of these columns might have justifications for keeping or re-encoding the data, for this project you should just remove them from the dataframe. (Feel free to make remarks about these outlier columns in the discussion, however!)\n",
    "\n",
    "For the remaining features, are there any patterns in which columns have, or share, missing data?"
   ]
  },
  {
   "cell_type": "code",
   "execution_count": 8,
   "metadata": {},
   "outputs": [
    {
     "data": {
      "text/plain": [
       "<matplotlib.axes._subplots.AxesSubplot at 0x7fd30daea828>"
      ]
     },
     "execution_count": 8,
     "metadata": {},
     "output_type": "execute_result"
    },
    {
     "data": {
      "image/png": "[encoded data removed]",
      "text/plain": [
       "<matplotlib.figure.Figure at 0x7fd33c179588>"
      ]
     },
     "metadata": {
      "needs_background": "light"
     },
     "output_type": "display_data"
    }
   ],
   "source": [
    "# Perform an assessment of how much missing data there is in each column of the\n",
    "# dataset.\n",
    "percent_missing = azdias.isnull().sum() * 100 / len(azdias)\n",
    "missing_value_azdias = pd.DataFrame({'column_name': azdias.columns,\n",
    "                                 'percent_missing': percent_missing}).sort_values(by = 'percent_missing', ascending=0)\n",
    "missing_value_azdias.plot.bar(figsize = (20,15))"
   ]
  },
  {
   "cell_type": "markdown",
   "metadata": {},
   "source": [
    "## Assesment: \n",
    "The above plot shows 3 columns have 50% or more data missing. The first 6 bars i.e. columns have more than 20% data missing and the remainder of the columns have below 20% missing data. "
   ]
  },
  {
   "cell_type": "code",
   "execution_count": 9,
   "metadata": {},
   "outputs": [
    {
     "data": {
      "text/html": [
       "<div>\n",
       "<style scoped>\n",
       "    .dataframe tbody tr th:only-of-type {\n",
       "        vertical-align: middle;\n",
       "    }\n",
       "\n",
       "    .dataframe tbody tr th {\n",
       "        vertical-align: top;\n",
       "    }\n",
       "\n",
       "    .dataframe thead th {\n",
       "        text-align: right;\n",
       "    }\n",
       "</style>\n",
       "<table border=\"1\" class=\"dataframe\">\n",
       "  <thead>\n",
       "    <tr style=\"text-align: right;\">\n",
       "      <th></th>\n",
       "      <th>column_name</th>\n",
       "      <th>count_missing</th>\n",
       "    </tr>\n",
       "  </thead>\n",
       "  <tbody>\n",
       "    <tr>\n",
       "      <th>TITEL_KZ</th>\n",
       "      <td>TITEL_KZ</td>\n",
       "      <td>889061</td>\n",
       "    </tr>\n",
       "    <tr>\n",
       "      <th>AGER_TYP</th>\n",
       "      <td>AGER_TYP</td>\n",
       "      <td>685843</td>\n",
       "    </tr>\n",
       "    <tr>\n",
       "      <th>KK_KUNDENTYP</th>\n",
       "      <td>KK_KUNDENTYP</td>\n",
       "      <td>584612</td>\n",
       "    </tr>\n",
       "    <tr>\n",
       "      <th>KBA05_BAUMAX</th>\n",
       "      <td>KBA05_BAUMAX</td>\n",
       "      <td>476524</td>\n",
       "    </tr>\n",
       "    <tr>\n",
       "      <th>GEBURTSJAHR</th>\n",
       "      <td>GEBURTSJAHR</td>\n",
       "      <td>392318</td>\n",
       "    </tr>\n",
       "    <tr>\n",
       "      <th>ALTER_HH</th>\n",
       "      <td>ALTER_HH</td>\n",
       "      <td>310267</td>\n",
       "    </tr>\n",
       "    <tr>\n",
       "      <th>KKK</th>\n",
       "      <td>KKK</td>\n",
       "      <td>158064</td>\n",
       "    </tr>\n",
       "    <tr>\n",
       "      <th>REGIOTYP</th>\n",
       "      <td>REGIOTYP</td>\n",
       "      <td>158064</td>\n",
       "    </tr>\n",
       "    <tr>\n",
       "      <th>W_KEIT_KIND_HH</th>\n",
       "      <td>W_KEIT_KIND_HH</td>\n",
       "      <td>147988</td>\n",
       "    </tr>\n",
       "    <tr>\n",
       "      <th>KBA05_ANTG1</th>\n",
       "      <td>KBA05_ANTG1</td>\n",
       "      <td>133324</td>\n",
       "    </tr>\n",
       "    <tr>\n",
       "      <th>KBA05_ANTG2</th>\n",
       "      <td>KBA05_ANTG2</td>\n",
       "      <td>133324</td>\n",
       "    </tr>\n",
       "    <tr>\n",
       "      <th>KBA05_ANTG3</th>\n",
       "      <td>KBA05_ANTG3</td>\n",
       "      <td>133324</td>\n",
       "    </tr>\n",
       "    <tr>\n",
       "      <th>KBA05_ANTG4</th>\n",
       "      <td>KBA05_ANTG4</td>\n",
       "      <td>133324</td>\n",
       "    </tr>\n",
       "    <tr>\n",
       "      <th>KBA05_GBZ</th>\n",
       "      <td>KBA05_GBZ</td>\n",
       "      <td>133324</td>\n",
       "    </tr>\n",
       "    <tr>\n",
       "      <th>MOBI_REGIO</th>\n",
       "      <td>MOBI_REGIO</td>\n",
       "      <td>133324</td>\n",
       "    </tr>\n",
       "    <tr>\n",
       "      <th>PLZ8_ANTG3</th>\n",
       "      <td>PLZ8_ANTG3</td>\n",
       "      <td>116515</td>\n",
       "    </tr>\n",
       "    <tr>\n",
       "      <th>PLZ8_ANTG2</th>\n",
       "      <td>PLZ8_ANTG2</td>\n",
       "      <td>116515</td>\n",
       "    </tr>\n",
       "    <tr>\n",
       "      <th>PLZ8_GBZ</th>\n",
       "      <td>PLZ8_GBZ</td>\n",
       "      <td>116515</td>\n",
       "    </tr>\n",
       "    <tr>\n",
       "      <th>PLZ8_HHZ</th>\n",
       "      <td>PLZ8_HHZ</td>\n",
       "      <td>116515</td>\n",
       "    </tr>\n",
       "    <tr>\n",
       "      <th>PLZ8_ANTG1</th>\n",
       "      <td>PLZ8_ANTG1</td>\n",
       "      <td>116515</td>\n",
       "    </tr>\n",
       "    <tr>\n",
       "      <th>PLZ8_BAUMAX</th>\n",
       "      <td>PLZ8_BAUMAX</td>\n",
       "      <td>116515</td>\n",
       "    </tr>\n",
       "    <tr>\n",
       "      <th>PLZ8_ANTG4</th>\n",
       "      <td>PLZ8_ANTG4</td>\n",
       "      <td>116515</td>\n",
       "    </tr>\n",
       "    <tr>\n",
       "      <th>VERS_TYP</th>\n",
       "      <td>VERS_TYP</td>\n",
       "      <td>111196</td>\n",
       "    </tr>\n",
       "    <tr>\n",
       "      <th>HEALTH_TYP</th>\n",
       "      <td>HEALTH_TYP</td>\n",
       "      <td>111196</td>\n",
       "    </tr>\n",
       "    <tr>\n",
       "      <th>SHOPPER_TYP</th>\n",
       "      <td>SHOPPER_TYP</td>\n",
       "      <td>111196</td>\n",
       "    </tr>\n",
       "    <tr>\n",
       "      <th>NATIONALITAET_KZ</th>\n",
       "      <td>NATIONALITAET_KZ</td>\n",
       "      <td>108315</td>\n",
       "    </tr>\n",
       "    <tr>\n",
       "      <th>PRAEGENDE_JUGENDJAHRE</th>\n",
       "      <td>PRAEGENDE_JUGENDJAHRE</td>\n",
       "      <td>108164</td>\n",
       "    </tr>\n",
       "    <tr>\n",
       "      <th>KBA13_ANZAHL_PKW</th>\n",
       "      <td>KBA13_ANZAHL_PKW</td>\n",
       "      <td>105800</td>\n",
       "    </tr>\n",
       "    <tr>\n",
       "      <th>ANZ_HAUSHALTE_AKTIV</th>\n",
       "      <td>ANZ_HAUSHALTE_AKTIV</td>\n",
       "      <td>99611</td>\n",
       "    </tr>\n",
       "    <tr>\n",
       "      <th>CAMEO_INTL_2015</th>\n",
       "      <td>CAMEO_INTL_2015</td>\n",
       "      <td>99352</td>\n",
       "    </tr>\n",
       "    <tr>\n",
       "      <th>...</th>\n",
       "      <td>...</td>\n",
       "      <td>...</td>\n",
       "    </tr>\n",
       "    <tr>\n",
       "      <th>CJT_GESAMTTYP</th>\n",
       "      <td>CJT_GESAMTTYP</td>\n",
       "      <td>4854</td>\n",
       "    </tr>\n",
       "    <tr>\n",
       "      <th>LP_STATUS_FEIN</th>\n",
       "      <td>LP_STATUS_FEIN</td>\n",
       "      <td>4854</td>\n",
       "    </tr>\n",
       "    <tr>\n",
       "      <th>LP_STATUS_GROB</th>\n",
       "      <td>LP_STATUS_GROB</td>\n",
       "      <td>4854</td>\n",
       "    </tr>\n",
       "    <tr>\n",
       "      <th>RETOURTYP_BK_S</th>\n",
       "      <td>RETOURTYP_BK_S</td>\n",
       "      <td>4854</td>\n",
       "    </tr>\n",
       "    <tr>\n",
       "      <th>ONLINE_AFFINITAET</th>\n",
       "      <td>ONLINE_AFFINITAET</td>\n",
       "      <td>4854</td>\n",
       "    </tr>\n",
       "    <tr>\n",
       "      <th>ALTERSKATEGORIE_GROB</th>\n",
       "      <td>ALTERSKATEGORIE_GROB</td>\n",
       "      <td>2881</td>\n",
       "    </tr>\n",
       "    <tr>\n",
       "      <th>FINANZ_UNAUFFAELLIGER</th>\n",
       "      <td>FINANZ_UNAUFFAELLIGER</td>\n",
       "      <td>0</td>\n",
       "    </tr>\n",
       "    <tr>\n",
       "      <th>FINANZTYP</th>\n",
       "      <td>FINANZTYP</td>\n",
       "      <td>0</td>\n",
       "    </tr>\n",
       "    <tr>\n",
       "      <th>FINANZ_HAUSBAUER</th>\n",
       "      <td>FINANZ_HAUSBAUER</td>\n",
       "      <td>0</td>\n",
       "    </tr>\n",
       "    <tr>\n",
       "      <th>GREEN_AVANTGARDE</th>\n",
       "      <td>GREEN_AVANTGARDE</td>\n",
       "      <td>0</td>\n",
       "    </tr>\n",
       "    <tr>\n",
       "      <th>FINANZ_SPARER</th>\n",
       "      <td>FINANZ_SPARER</td>\n",
       "      <td>0</td>\n",
       "    </tr>\n",
       "    <tr>\n",
       "      <th>FINANZ_MINIMALIST</th>\n",
       "      <td>FINANZ_MINIMALIST</td>\n",
       "      <td>0</td>\n",
       "    </tr>\n",
       "    <tr>\n",
       "      <th>FINANZ_VORSORGER</th>\n",
       "      <td>FINANZ_VORSORGER</td>\n",
       "      <td>0</td>\n",
       "    </tr>\n",
       "    <tr>\n",
       "      <th>FINANZ_ANLEGER</th>\n",
       "      <td>FINANZ_ANLEGER</td>\n",
       "      <td>0</td>\n",
       "    </tr>\n",
       "    <tr>\n",
       "      <th>ANREDE_KZ</th>\n",
       "      <td>ANREDE_KZ</td>\n",
       "      <td>0</td>\n",
       "    </tr>\n",
       "    <tr>\n",
       "      <th>SEMIO_KAEM</th>\n",
       "      <td>SEMIO_KAEM</td>\n",
       "      <td>0</td>\n",
       "    </tr>\n",
       "    <tr>\n",
       "      <th>SEMIO_SOZ</th>\n",
       "      <td>SEMIO_SOZ</td>\n",
       "      <td>0</td>\n",
       "    </tr>\n",
       "    <tr>\n",
       "      <th>SEMIO_PFLICHT</th>\n",
       "      <td>SEMIO_PFLICHT</td>\n",
       "      <td>0</td>\n",
       "    </tr>\n",
       "    <tr>\n",
       "      <th>SEMIO_FAM</th>\n",
       "      <td>SEMIO_FAM</td>\n",
       "      <td>0</td>\n",
       "    </tr>\n",
       "    <tr>\n",
       "      <th>SEMIO_REL</th>\n",
       "      <td>SEMIO_REL</td>\n",
       "      <td>0</td>\n",
       "    </tr>\n",
       "    <tr>\n",
       "      <th>SEMIO_MAT</th>\n",
       "      <td>SEMIO_MAT</td>\n",
       "      <td>0</td>\n",
       "    </tr>\n",
       "    <tr>\n",
       "      <th>SEMIO_VERT</th>\n",
       "      <td>SEMIO_VERT</td>\n",
       "      <td>0</td>\n",
       "    </tr>\n",
       "    <tr>\n",
       "      <th>SEMIO_LUST</th>\n",
       "      <td>SEMIO_LUST</td>\n",
       "      <td>0</td>\n",
       "    </tr>\n",
       "    <tr>\n",
       "      <th>SEMIO_ERL</th>\n",
       "      <td>SEMIO_ERL</td>\n",
       "      <td>0</td>\n",
       "    </tr>\n",
       "    <tr>\n",
       "      <th>SEMIO_KULT</th>\n",
       "      <td>SEMIO_KULT</td>\n",
       "      <td>0</td>\n",
       "    </tr>\n",
       "    <tr>\n",
       "      <th>SEMIO_RAT</th>\n",
       "      <td>SEMIO_RAT</td>\n",
       "      <td>0</td>\n",
       "    </tr>\n",
       "    <tr>\n",
       "      <th>SEMIO_KRIT</th>\n",
       "      <td>SEMIO_KRIT</td>\n",
       "      <td>0</td>\n",
       "    </tr>\n",
       "    <tr>\n",
       "      <th>SEMIO_DOM</th>\n",
       "      <td>SEMIO_DOM</td>\n",
       "      <td>0</td>\n",
       "    </tr>\n",
       "    <tr>\n",
       "      <th>SEMIO_TRADV</th>\n",
       "      <td>SEMIO_TRADV</td>\n",
       "      <td>0</td>\n",
       "    </tr>\n",
       "    <tr>\n",
       "      <th>ZABEOTYP</th>\n",
       "      <td>ZABEOTYP</td>\n",
       "      <td>0</td>\n",
       "    </tr>\n",
       "  </tbody>\n",
       "</table>\n",
       "<p>85 rows × 2 columns</p>\n",
       "</div>"
      ],
      "text/plain": [
       "                                 column_name  count_missing\n",
       "TITEL_KZ                            TITEL_KZ         889061\n",
       "AGER_TYP                            AGER_TYP         685843\n",
       "KK_KUNDENTYP                    KK_KUNDENTYP         584612\n",
       "KBA05_BAUMAX                    KBA05_BAUMAX         476524\n",
       "GEBURTSJAHR                      GEBURTSJAHR         392318\n",
       "ALTER_HH                            ALTER_HH         310267\n",
       "KKK                                      KKK         158064\n",
       "REGIOTYP                            REGIOTYP         158064\n",
       "W_KEIT_KIND_HH                W_KEIT_KIND_HH         147988\n",
       "KBA05_ANTG1                      KBA05_ANTG1         133324\n",
       "KBA05_ANTG2                      KBA05_ANTG2         133324\n",
       "KBA05_ANTG3                      KBA05_ANTG3         133324\n",
       "KBA05_ANTG4                      KBA05_ANTG4         133324\n",
       "KBA05_GBZ                          KBA05_GBZ         133324\n",
       "MOBI_REGIO                        MOBI_REGIO         133324\n",
       "PLZ8_ANTG3                        PLZ8_ANTG3         116515\n",
       "PLZ8_ANTG2                        PLZ8_ANTG2         116515\n",
       "PLZ8_GBZ                            PLZ8_GBZ         116515\n",
       "PLZ8_HHZ                            PLZ8_HHZ         116515\n",
       "PLZ8_ANTG1                        PLZ8_ANTG1         116515\n",
       "PLZ8_BAUMAX                      PLZ8_BAUMAX         116515\n",
       "PLZ8_ANTG4                        PLZ8_ANTG4         116515\n",
       "VERS_TYP                            VERS_TYP         111196\n",
       "HEALTH_TYP                        HEALTH_TYP         111196\n",
       "SHOPPER_TYP                      SHOPPER_TYP         111196\n",
       "NATIONALITAET_KZ            NATIONALITAET_KZ         108315\n",
       "PRAEGENDE_JUGENDJAHRE  PRAEGENDE_JUGENDJAHRE         108164\n",
       "KBA13_ANZAHL_PKW            KBA13_ANZAHL_PKW         105800\n",
       "ANZ_HAUSHALTE_AKTIV      ANZ_HAUSHALTE_AKTIV          99611\n",
       "CAMEO_INTL_2015              CAMEO_INTL_2015          99352\n",
       "...                                      ...            ...\n",
       "CJT_GESAMTTYP                  CJT_GESAMTTYP           4854\n",
       "LP_STATUS_FEIN                LP_STATUS_FEIN           4854\n",
       "LP_STATUS_GROB                LP_STATUS_GROB           4854\n",
       "RETOURTYP_BK_S                RETOURTYP_BK_S           4854\n",
       "ONLINE_AFFINITAET          ONLINE_AFFINITAET           4854\n",
       "ALTERSKATEGORIE_GROB    ALTERSKATEGORIE_GROB           2881\n",
       "FINANZ_UNAUFFAELLIGER  FINANZ_UNAUFFAELLIGER              0\n",
       "FINANZTYP                          FINANZTYP              0\n",
       "FINANZ_HAUSBAUER            FINANZ_HAUSBAUER              0\n",
       "GREEN_AVANTGARDE            GREEN_AVANTGARDE              0\n",
       "FINANZ_SPARER                  FINANZ_SPARER              0\n",
       "FINANZ_MINIMALIST          FINANZ_MINIMALIST              0\n",
       "FINANZ_VORSORGER            FINANZ_VORSORGER              0\n",
       "FINANZ_ANLEGER                FINANZ_ANLEGER              0\n",
       "ANREDE_KZ                          ANREDE_KZ              0\n",
       "SEMIO_KAEM                        SEMIO_KAEM              0\n",
       "SEMIO_SOZ                          SEMIO_SOZ              0\n",
       "SEMIO_PFLICHT                  SEMIO_PFLICHT              0\n",
       "SEMIO_FAM                          SEMIO_FAM              0\n",
       "SEMIO_REL                          SEMIO_REL              0\n",
       "SEMIO_MAT                          SEMIO_MAT              0\n",
       "SEMIO_VERT                        SEMIO_VERT              0\n",
       "SEMIO_LUST                        SEMIO_LUST              0\n",
       "SEMIO_ERL                          SEMIO_ERL              0\n",
       "SEMIO_KULT                        SEMIO_KULT              0\n",
       "SEMIO_RAT                          SEMIO_RAT              0\n",
       "SEMIO_KRIT                        SEMIO_KRIT              0\n",
       "SEMIO_DOM                          SEMIO_DOM              0\n",
       "SEMIO_TRADV                      SEMIO_TRADV              0\n",
       "ZABEOTYP                            ZABEOTYP              0\n",
       "\n",
       "[85 rows x 2 columns]"
      ]
     },
     "execution_count": 9,
     "metadata": {},
     "output_type": "execute_result"
    }
   ],
   "source": [
    "count_missing = azdias.isnull().sum()\n",
    "missing_count_azdias = pd.DataFrame({'column_name': azdias.columns,\n",
    "                                 'count_missing': count_missing}).sort_values(by = 'count_missing', ascending=0)\n",
    "missing_count_azdias"
   ]
  },
  {
   "cell_type": "code",
   "execution_count": 10,
   "metadata": {},
   "outputs": [
    {
     "name": "stdout",
     "output_type": "stream",
     "text": [
      "6 columns have 25% or more data missing\n",
      "47 columns have more than 5% and less than 25% data missing\n"
     ]
    }
   ],
   "source": [
    "# Investigate patterns in the amount of missing data in each column.\n",
    "percent_missing_filtered25 = missing_value_azdias[percent_missing >= 25]\n",
    "percent_missing_filtered5 = missing_value_azdias[(missing_value_azdias['percent_missing'] > 5) & (missing_value_azdias['percent_missing'] < 25)]\n",
    "print('{} columns have 25% or more data missing'.format(len(percent_missing_filtered25)))\n",
    "print('{} columns have more than 5% and less than 25% data missing'.format(len(percent_missing_filtered5)))"
   ]
  },
  {
   "cell_type": "markdown",
   "metadata": {},
   "source": [
    "## Assessment: \n",
    "The first 6 columns with more than 25% missing data are good candidates for dropping from the final analysis. Since the high percentage of missing data is likely to be reported as outliers. "
   ]
  },
  {
   "cell_type": "code",
   "execution_count": 11,
   "metadata": {},
   "outputs": [
    {
     "name": "stdout",
     "output_type": "stream",
     "text": [
      "<class 'pandas.core.frame.DataFrame'>\n",
      "RangeIndex: 891221 entries, 0 to 891220\n",
      "Data columns (total 79 columns):\n",
      "ALTERSKATEGORIE_GROB     888340 non-null float64\n",
      "ANREDE_KZ                891221 non-null int64\n",
      "CJT_GESAMTTYP            886367 non-null float64\n",
      "FINANZ_MINIMALIST        891221 non-null int64\n",
      "FINANZ_SPARER            891221 non-null int64\n",
      "FINANZ_VORSORGER         891221 non-null int64\n",
      "FINANZ_ANLEGER           891221 non-null int64\n",
      "FINANZ_UNAUFFAELLIGER    891221 non-null int64\n",
      "FINANZ_HAUSBAUER         891221 non-null int64\n",
      "FINANZTYP                891221 non-null int64\n",
      "GFK_URLAUBERTYP          886367 non-null float64\n",
      "GREEN_AVANTGARDE         891221 non-null int64\n",
      "HEALTH_TYP               780025 non-null float64\n",
      "LP_LEBENSPHASE_FEIN      793589 non-null float64\n",
      "LP_LEBENSPHASE_GROB      796649 non-null float64\n",
      "LP_FAMILIE_FEIN          813429 non-null float64\n",
      "LP_FAMILIE_GROB          813429 non-null float64\n",
      "LP_STATUS_FEIN           886367 non-null float64\n",
      "LP_STATUS_GROB           886367 non-null float64\n",
      "NATIONALITAET_KZ         782906 non-null float64\n",
      "PRAEGENDE_JUGENDJAHRE    783057 non-null float64\n",
      "RETOURTYP_BK_S           886367 non-null float64\n",
      "SEMIO_SOZ                891221 non-null int64\n",
      "SEMIO_FAM                891221 non-null int64\n",
      "SEMIO_REL                891221 non-null int64\n",
      "SEMIO_MAT                891221 non-null int64\n",
      "SEMIO_VERT               891221 non-null int64\n",
      "SEMIO_LUST               891221 non-null int64\n",
      "SEMIO_ERL                891221 non-null int64\n",
      "SEMIO_KULT               891221 non-null int64\n",
      "SEMIO_RAT                891221 non-null int64\n",
      "SEMIO_KRIT               891221 non-null int64\n",
      "SEMIO_DOM                891221 non-null int64\n",
      "SEMIO_KAEM               891221 non-null int64\n",
      "SEMIO_PFLICHT            891221 non-null int64\n",
      "SEMIO_TRADV              891221 non-null int64\n",
      "SHOPPER_TYP              780025 non-null float64\n",
      "SOHO_KZ                  817722 non-null float64\n",
      "VERS_TYP                 780025 non-null float64\n",
      "ZABEOTYP                 891221 non-null int64\n",
      "ANZ_PERSONEN             817722 non-null float64\n",
      "ANZ_TITEL                817722 non-null float64\n",
      "HH_EINKOMMEN_SCORE       872873 non-null float64\n",
      "W_KEIT_KIND_HH           743233 non-null float64\n",
      "WOHNDAUER_2008           817722 non-null float64\n",
      "ANZ_HAUSHALTE_AKTIV      791610 non-null float64\n",
      "ANZ_HH_TITEL             794213 non-null float64\n",
      "GEBAEUDETYP              798073 non-null float64\n",
      "KONSUMNAEHE              817252 non-null float64\n",
      "MIN_GEBAEUDEJAHR         798073 non-null float64\n",
      "OST_WEST_KZ              798073 non-null object\n",
      "WOHNLAGE                 798073 non-null float64\n",
      "CAMEO_DEUG_2015          791869 non-null object\n",
      "CAMEO_DEU_2015           791869 non-null object\n",
      "CAMEO_INTL_2015          791869 non-null object\n",
      "KBA05_ANTG1              757897 non-null float64\n",
      "KBA05_ANTG2              757897 non-null float64\n",
      "KBA05_ANTG3              757897 non-null float64\n",
      "KBA05_ANTG4              757897 non-null float64\n",
      "KBA05_GBZ                757897 non-null float64\n",
      "BALLRAUM                 797481 non-null float64\n",
      "EWDICHTE                 797481 non-null float64\n",
      "INNENSTADT               797481 non-null float64\n",
      "GEBAEUDETYP_RASTER       798066 non-null float64\n",
      "KKK                      733157 non-null float64\n",
      "MOBI_REGIO               757897 non-null float64\n",
      "ONLINE_AFFINITAET        886367 non-null float64\n",
      "REGIOTYP                 733157 non-null float64\n",
      "KBA13_ANZAHL_PKW         785421 non-null float64\n",
      "PLZ8_ANTG1               774706 non-null float64\n",
      "PLZ8_ANTG2               774706 non-null float64\n",
      "PLZ8_ANTG3               774706 non-null float64\n",
      "PLZ8_ANTG4               774706 non-null float64\n",
      "PLZ8_BAUMAX              774706 non-null float64\n",
      "PLZ8_HHZ                 774706 non-null float64\n",
      "PLZ8_GBZ                 774706 non-null float64\n",
      "ARBEIT                   793846 non-null float64\n",
      "ORTSGR_KLS9              793947 non-null float64\n",
      "RELAT_AB                 793846 non-null float64\n",
      "dtypes: float64(51), int64(24), object(4)\n",
      "memory usage: 537.2+ MB\n"
     ]
    }
   ],
   "source": [
    "# Remove the outlier columns from the dataset. (You'll perform other data\n",
    "# engineering tasks such as re-encoding and imputation later.)\n",
    "drop_columns = missing_value_azdias.loc[missing_value_azdias['percent_missing'] > 25, 'column_name']\n",
    "drop_columns.index\n",
    "azdias.drop(drop_columns, axis='columns', inplace=True)\n",
    "azdias.info()         "
   ]
  },
  {
   "cell_type": "markdown",
   "metadata": {},
   "source": [
    "#### Discussion 1.1.2: Assess Missing Data in Each Column\n",
    " - All the columns with missing data were plotted on a bar plot with values sorted in descending order of percent missing values.\n",
    " - Based on this, 6 columns with more than 25% missing values. These were deemed as good candidates for dropping from the final analysis. Since the high percentage of missing data is likely to be reported as outliers.\n",
    " - List of dropped columns : 'TITEL_KZ', 'AGER_TYP', 'KK_KUNDENTYP', 'KBA05_BAUMAX', 'GEBURTSJAHR','ALTER_HH'"
   ]
  },
  {
   "cell_type": "markdown",
   "metadata": {},
   "source": [
    "#### Step 1.1.3: Assess Missing Data in Each Row\n",
    "\n",
    "Now, you'll perform a similar assessment for the rows of the dataset. How much data is missing in each row? As with the columns, you should see some groups of points that have a very different numbers of missing values. Divide the data into two subsets: one for data points that are above some threshold for missing values, and a second subset for points below that threshold.\n",
    "\n",
    "In order to know what to do with the outlier rows, we should see if the distribution of data values on columns that are not missing data (or are missing very little data) are similar or different between the two groups. Select at least five of these columns and compare the distribution of values.\n",
    "- You can use seaborn's [`countplot()`](https://seaborn.pydata.org/generated/seaborn.countplot.html) function to create a bar chart of code frequencies and matplotlib's [`subplot()`](https://matplotlib.org/api/_as_gen/matplotlib.pyplot.subplot.html) function to put bar charts for the two subplots side by side.\n",
    "- To reduce repeated code, you might want to write a function that can perform this comparison, taking as one of its arguments a column to be compared.\n",
    "\n",
    "Depending on what you observe in your comparison, this will have implications on how you approach your conclusions later in the analysis. If the distributions of non-missing features look similar between the data with many missing values and the data with few or no missing values, then we could argue that simply dropping those points from the analysis won't present a major issue. On the other hand, if the data with many missing values looks very different from the data with few or no missing values, then we should make a note on those data as special. We'll revisit these data later on. **Either way, you should continue your analysis for now using just the subset of the data with few or no missing values.**"
   ]
  },
  {
   "cell_type": "code",
   "execution_count": 12,
   "metadata": {},
   "outputs": [
    {
     "name": "stdout",
     "output_type": "stream",
     "text": [
      "The total number of rows in azdias data set is 891221\n",
      "There are 268012 rows containing one or more missing value\n",
      "Which means 30 % rows have missing data\n"
     ]
    }
   ],
   "source": [
    "# How much data is missing in each row of the dataset?\n",
    "print('The total number of rows in azdias data set is {}'.format(azdias.shape[0]))\n",
    "print('There are {} rows containing one or more missing value'.format(sum(azdias.isnull().any(axis=1))))\n",
    "print('Which means {} % rows have missing data'.format(round((sum(azdias.isnull().any(axis=1))/(azdias.shape[0]))*100),3))"
   ]
  },
  {
   "cell_type": "code",
   "execution_count": 13,
   "metadata": {},
   "outputs": [
    {
     "data": {
      "text/plain": [
       "<matplotlib.axes._subplots.AxesSubplot at 0x7fd30d8a85f8>"
      ]
     },
     "execution_count": 13,
     "metadata": {},
     "output_type": "execute_result"
    },
    {
     "data": {
      "image/png": "[encoded data removed]",
      "text/plain": [
       "<matplotlib.figure.Figure at 0x7fd30daea128>"
      ]
     },
     "metadata": {
      "needs_background": "light"
     },
     "output_type": "display_data"
    }
   ],
   "source": [
    "# Write code to divide the data into two subsets based on the number of missing\n",
    "# values in each row.\n",
    "a = azdias.isnull().transpose().sum()\n",
    "azdias_rows_missing_low = azdias[a<20]\n",
    "azdias_rows_missing_high = azdias[a>=20]\n",
    "count_azdias_rows_missing_low = azdias_rows_missing_low.isnull().transpose().sum()\n",
    "count_azdias_rows_missing_high = azdias_rows_missing_high.isnull().transpose().sum()\n",
    "sns.countplot(count_azdias_rows_missing_low)"
   ]
  },
  {
   "cell_type": "code",
   "execution_count": 14,
   "metadata": {},
   "outputs": [
    {
     "data": {
      "text/plain": [
       "<matplotlib.axes._subplots.AxesSubplot at 0x7fd30d8847b8>"
      ]
     },
     "execution_count": 14,
     "metadata": {},
     "output_type": "execute_result"
    },
    {
     "data": {
      "image/png": "[encoded data removed]",
      "text/plain": [
       "<matplotlib.figure.Figure at 0x7fd30d7be4e0>"
      ]
     },
     "metadata": {
      "needs_background": "light"
     },
     "output_type": "display_data"
    }
   ],
   "source": [
    "sns.countplot(count_azdias_rows_missing_high)"
   ]
  },
  {
   "cell_type": "code",
   "execution_count": 15,
   "metadata": {},
   "outputs": [
    {
     "data": {
      "text/plain": [
       "(94144,)"
      ]
     },
     "execution_count": 15,
     "metadata": {},
     "output_type": "execute_result"
    }
   ],
   "source": [
    "count_azdias_rows_missing_high.shape"
   ]
  },
  {
   "cell_type": "code",
   "execution_count": 16,
   "metadata": {},
   "outputs": [
    {
     "data": {
      "image/png": "[encoded data removed]",
      "text/plain": [
       "<matplotlib.figure.Figure at 0x7fd30e37c3c8>"
      ]
     },
     "metadata": {
      "needs_background": "light"
     },
     "output_type": "display_data"
    }
   ],
   "source": [
    "# Compare the distribution of values for at least five columns where there are\n",
    "# no or few missing values, between the two subsets.\n",
    "fig, axes = plt.subplots(nrows=8, ncols=2, figsize=(20,30))\n",
    "n = 0\n",
    "for i in azdias.columns[0:8]:\n",
    "    sns.countplot(azdias_rows_missing_low.loc[:,i], ax = axes[n,0])\n",
    "    sns.countplot(azdias_rows_missing_low.loc[:,i], ax = axes[n,1])\n",
    "    \n",
    "    axes[n,0].set_title('Low group i.e. < 20 missing column values per row')\n",
    "    axes[n,1].set_title('High group i.e. > = 20 missing column values per row')\n",
    "\n",
    "    n = n+1"
   ]
  },
  {
   "cell_type": "code",
   "execution_count": 17,
   "metadata": {},
   "outputs": [
    {
     "data": {
      "text/html": [
       "<div>\n",
       "<style scoped>\n",
       "    .dataframe tbody tr th:only-of-type {\n",
       "        vertical-align: middle;\n",
       "    }\n",
       "\n",
       "    .dataframe tbody tr th {\n",
       "        vertical-align: top;\n",
       "    }\n",
       "\n",
       "    .dataframe thead th {\n",
       "        text-align: right;\n",
       "    }\n",
       "</style>\n",
       "<table border=\"1\" class=\"dataframe\">\n",
       "  <thead>\n",
       "    <tr style=\"text-align: right;\">\n",
       "      <th></th>\n",
       "      <th>ALTERSKATEGORIE_GROB</th>\n",
       "      <th>ANREDE_KZ</th>\n",
       "      <th>CJT_GESAMTTYP</th>\n",
       "      <th>FINANZ_MINIMALIST</th>\n",
       "      <th>FINANZ_SPARER</th>\n",
       "      <th>FINANZ_VORSORGER</th>\n",
       "      <th>FINANZ_ANLEGER</th>\n",
       "      <th>FINANZ_UNAUFFAELLIGER</th>\n",
       "      <th>FINANZ_HAUSBAUER</th>\n",
       "      <th>FINANZTYP</th>\n",
       "      <th>...</th>\n",
       "      <th>PLZ8_ANTG1</th>\n",
       "      <th>PLZ8_ANTG2</th>\n",
       "      <th>PLZ8_ANTG3</th>\n",
       "      <th>PLZ8_ANTG4</th>\n",
       "      <th>PLZ8_BAUMAX</th>\n",
       "      <th>PLZ8_HHZ</th>\n",
       "      <th>PLZ8_GBZ</th>\n",
       "      <th>ARBEIT</th>\n",
       "      <th>ORTSGR_KLS9</th>\n",
       "      <th>RELAT_AB</th>\n",
       "    </tr>\n",
       "  </thead>\n",
       "  <tbody>\n",
       "    <tr>\n",
       "      <th>1</th>\n",
       "      <td>1.0</td>\n",
       "      <td>2</td>\n",
       "      <td>5.0</td>\n",
       "      <td>1</td>\n",
       "      <td>5</td>\n",
       "      <td>2</td>\n",
       "      <td>5</td>\n",
       "      <td>4</td>\n",
       "      <td>5</td>\n",
       "      <td>1</td>\n",
       "      <td>...</td>\n",
       "      <td>2.0</td>\n",
       "      <td>3.0</td>\n",
       "      <td>2.0</td>\n",
       "      <td>1.0</td>\n",
       "      <td>1.0</td>\n",
       "      <td>5.0</td>\n",
       "      <td>4.0</td>\n",
       "      <td>3.0</td>\n",
       "      <td>5.0</td>\n",
       "      <td>4.0</td>\n",
       "    </tr>\n",
       "    <tr>\n",
       "      <th>2</th>\n",
       "      <td>3.0</td>\n",
       "      <td>2</td>\n",
       "      <td>3.0</td>\n",
       "      <td>1</td>\n",
       "      <td>4</td>\n",
       "      <td>1</td>\n",
       "      <td>2</td>\n",
       "      <td>3</td>\n",
       "      <td>5</td>\n",
       "      <td>1</td>\n",
       "      <td>...</td>\n",
       "      <td>3.0</td>\n",
       "      <td>3.0</td>\n",
       "      <td>1.0</td>\n",
       "      <td>0.0</td>\n",
       "      <td>1.0</td>\n",
       "      <td>4.0</td>\n",
       "      <td>4.0</td>\n",
       "      <td>3.0</td>\n",
       "      <td>5.0</td>\n",
       "      <td>2.0</td>\n",
       "    </tr>\n",
       "    <tr>\n",
       "      <th>3</th>\n",
       "      <td>4.0</td>\n",
       "      <td>2</td>\n",
       "      <td>2.0</td>\n",
       "      <td>4</td>\n",
       "      <td>2</td>\n",
       "      <td>5</td>\n",
       "      <td>2</td>\n",
       "      <td>1</td>\n",
       "      <td>2</td>\n",
       "      <td>6</td>\n",
       "      <td>...</td>\n",
       "      <td>2.0</td>\n",
       "      <td>2.0</td>\n",
       "      <td>2.0</td>\n",
       "      <td>0.0</td>\n",
       "      <td>1.0</td>\n",
       "      <td>3.0</td>\n",
       "      <td>4.0</td>\n",
       "      <td>2.0</td>\n",
       "      <td>3.0</td>\n",
       "      <td>3.0</td>\n",
       "    </tr>\n",
       "    <tr>\n",
       "      <th>4</th>\n",
       "      <td>3.0</td>\n",
       "      <td>1</td>\n",
       "      <td>5.0</td>\n",
       "      <td>4</td>\n",
       "      <td>3</td>\n",
       "      <td>4</td>\n",
       "      <td>1</td>\n",
       "      <td>3</td>\n",
       "      <td>2</td>\n",
       "      <td>5</td>\n",
       "      <td>...</td>\n",
       "      <td>2.0</td>\n",
       "      <td>4.0</td>\n",
       "      <td>2.0</td>\n",
       "      <td>1.0</td>\n",
       "      <td>2.0</td>\n",
       "      <td>3.0</td>\n",
       "      <td>3.0</td>\n",
       "      <td>4.0</td>\n",
       "      <td>6.0</td>\n",
       "      <td>5.0</td>\n",
       "    </tr>\n",
       "    <tr>\n",
       "      <th>5</th>\n",
       "      <td>1.0</td>\n",
       "      <td>2</td>\n",
       "      <td>2.0</td>\n",
       "      <td>3</td>\n",
       "      <td>1</td>\n",
       "      <td>5</td>\n",
       "      <td>2</td>\n",
       "      <td>2</td>\n",
       "      <td>5</td>\n",
       "      <td>2</td>\n",
       "      <td>...</td>\n",
       "      <td>2.0</td>\n",
       "      <td>3.0</td>\n",
       "      <td>1.0</td>\n",
       "      <td>1.0</td>\n",
       "      <td>1.0</td>\n",
       "      <td>5.0</td>\n",
       "      <td>5.0</td>\n",
       "      <td>2.0</td>\n",
       "      <td>3.0</td>\n",
       "      <td>3.0</td>\n",
       "    </tr>\n",
       "  </tbody>\n",
       "</table>\n",
       "<p>5 rows × 79 columns</p>\n",
       "</div>"
      ],
      "text/plain": [
       "   ALTERSKATEGORIE_GROB  ANREDE_KZ  CJT_GESAMTTYP  FINANZ_MINIMALIST  \\\n",
       "1                   1.0          2            5.0                  1   \n",
       "2                   3.0          2            3.0                  1   \n",
       "3                   4.0          2            2.0                  4   \n",
       "4                   3.0          1            5.0                  4   \n",
       "5                   1.0          2            2.0                  3   \n",
       "\n",
       "   FINANZ_SPARER  FINANZ_VORSORGER  FINANZ_ANLEGER  FINANZ_UNAUFFAELLIGER  \\\n",
       "1              5                 2               5                      4   \n",
       "2              4                 1               2                      3   \n",
       "3              2                 5               2                      1   \n",
       "4              3                 4               1                      3   \n",
       "5              1                 5               2                      2   \n",
       "\n",
       "   FINANZ_HAUSBAUER  FINANZTYP    ...     PLZ8_ANTG1  PLZ8_ANTG2  PLZ8_ANTG3  \\\n",
       "1                 5          1    ...            2.0         3.0         2.0   \n",
       "2                 5          1    ...            3.0         3.0         1.0   \n",
       "3                 2          6    ...            2.0         2.0         2.0   \n",
       "4                 2          5    ...            2.0         4.0         2.0   \n",
       "5                 5          2    ...            2.0         3.0         1.0   \n",
       "\n",
       "   PLZ8_ANTG4  PLZ8_BAUMAX  PLZ8_HHZ  PLZ8_GBZ  ARBEIT  ORTSGR_KLS9  RELAT_AB  \n",
       "1         1.0          1.0       5.0       4.0     3.0          5.0       4.0  \n",
       "2         0.0          1.0       4.0       4.0     3.0          5.0       2.0  \n",
       "3         0.0          1.0       3.0       4.0     2.0          3.0       3.0  \n",
       "4         1.0          2.0       3.0       3.0     4.0          6.0       5.0  \n",
       "5         1.0          1.0       5.0       5.0     2.0          3.0       3.0  \n",
       "\n",
       "[5 rows x 79 columns]"
      ]
     },
     "execution_count": 17,
     "metadata": {},
     "output_type": "execute_result"
    }
   ],
   "source": [
    "azdias_rows_missing_low.head()"
   ]
  },
  {
   "cell_type": "code",
   "execution_count": 18,
   "metadata": {},
   "outputs": [
    {
     "data": {
      "text/plain": [
       "(797077, 79)"
      ]
     },
     "execution_count": 18,
     "metadata": {},
     "output_type": "execute_result"
    }
   ],
   "source": [
    "azdias_rows_missing_low.shape"
   ]
  },
  {
   "cell_type": "markdown",
   "metadata": {},
   "source": [
    "#### Discussion 1.1.3: Assess Missing Data in Each Row\n",
    "##### Missing Data\n",
    "- About 30% of the rows (268012 out of the total 891221) have some missing data\n",
    "##### Handling missing data\n",
    "- Drop all rows with missing data i.e. drop 30% of the rows\n",
    "- Drop all the rows with more than 20 missing values i.e. the high group (94, 144 rows out of 891221) which is about 10.5% of the total data\n",
    "- Impute missing values in the rows with mean (due to least sensitivity to outliers). \n",
    "\n",
    "I will proceed for now with excluding all the rows with more than 20 missing values i.e. 10.5% of the data. I will then impute the missing values in the remainder of the data with mode. \n"
   ]
  },
  {
   "cell_type": "markdown",
   "metadata": {},
   "source": [
    "### Step 1.2: Select and Re-Encode Features\n",
    "\n",
    "Checking for missing data isn't the only way in which you can prepare a dataset for analysis. Since the unsupervised learning techniques to be used will only work on data that is encoded numerically, you need to make a few encoding changes or additional assumptions to be able to make progress. In addition, while almost all of the values in the dataset are encoded using numbers, not all of them represent numeric values. Check the third column of the feature summary (`feat_info`) for a summary of types of measurement.\n",
    "- For numeric and interval data, these features can be kept without changes.\n",
    "- Most of the variables in the dataset are ordinal in nature. While ordinal values may technically be non-linear in spacing, make the simplifying assumption that the ordinal variables can be treated as being interval in nature (that is, kept without any changes).\n",
    "- Special handling may be necessary for the remaining two variable types: categorical, and 'mixed'.\n",
    "\n",
    "In the first two parts of this sub-step, you will perform an investigation of the categorical and mixed-type features and make a decision on each of them, whether you will keep, drop, or re-encode each. Then, in the last part, you will create a new data frame with only the selected and engineered columns.\n",
    "\n",
    "Data wrangling is often the trickiest part of the data analysis process, and there's a lot of it to be done here. But stick with it: once you're done with this step, you'll be ready to get to the machine learning parts of the project!"
   ]
  },
  {
   "cell_type": "markdown",
   "metadata": {},
   "source": [
    "#### Step 1.2.1: Re-Encode Categorical Features\n",
    "\n",
    "For categorical data, you would ordinarily need to encode the levels as dummy variables. Depending on the number of categories, perform one of the following:\n",
    "- For binary (two-level) categoricals that take numeric values, you can keep them without needing to do anything.\n",
    "- There is one binary variable that takes on non-numeric values. For this one, you need to re-encode the values as numbers or create a dummy variable.\n",
    "- For multi-level categoricals (three or more values), you can choose to encode the values using multiple dummy variables (e.g. via [OneHotEncoder](http://scikit-learn.org/stable/modules/generated/sklearn.preprocessing.OneHotEncoder.html)), or (to keep things straightforward) just drop them from the analysis. As always, document your choices in the Discussion section."
   ]
  },
  {
   "cell_type": "code",
   "execution_count": 19,
   "metadata": {},
   "outputs": [
    {
     "data": {
      "text/html": [
       "<div>\n",
       "<style scoped>\n",
       "    .dataframe tbody tr th:only-of-type {\n",
       "        vertical-align: middle;\n",
       "    }\n",
       "\n",
       "    .dataframe tbody tr th {\n",
       "        vertical-align: top;\n",
       "    }\n",
       "\n",
       "    .dataframe thead th {\n",
       "        text-align: right;\n",
       "    }\n",
       "</style>\n",
       "<table border=\"1\" class=\"dataframe\">\n",
       "  <thead>\n",
       "    <tr style=\"text-align: right;\">\n",
       "      <th></th>\n",
       "      <th>attribute</th>\n",
       "      <th>information_level</th>\n",
       "      <th>missing_or_unknown</th>\n",
       "    </tr>\n",
       "    <tr>\n",
       "      <th>type</th>\n",
       "      <th></th>\n",
       "      <th></th>\n",
       "      <th></th>\n",
       "    </tr>\n",
       "  </thead>\n",
       "  <tbody>\n",
       "    <tr>\n",
       "      <th>categorical</th>\n",
       "      <td>21</td>\n",
       "      <td>21</td>\n",
       "      <td>21</td>\n",
       "    </tr>\n",
       "    <tr>\n",
       "      <th>interval</th>\n",
       "      <td>1</td>\n",
       "      <td>1</td>\n",
       "      <td>1</td>\n",
       "    </tr>\n",
       "    <tr>\n",
       "      <th>mixed</th>\n",
       "      <td>7</td>\n",
       "      <td>7</td>\n",
       "      <td>7</td>\n",
       "    </tr>\n",
       "    <tr>\n",
       "      <th>numeric</th>\n",
       "      <td>7</td>\n",
       "      <td>7</td>\n",
       "      <td>7</td>\n",
       "    </tr>\n",
       "    <tr>\n",
       "      <th>ordinal</th>\n",
       "      <td>49</td>\n",
       "      <td>49</td>\n",
       "      <td>49</td>\n",
       "    </tr>\n",
       "  </tbody>\n",
       "</table>\n",
       "</div>"
      ],
      "text/plain": [
       "             attribute  information_level  missing_or_unknown\n",
       "type                                                         \n",
       "categorical         21                 21                  21\n",
       "interval             1                  1                   1\n",
       "mixed                7                  7                   7\n",
       "numeric              7                  7                   7\n",
       "ordinal             49                 49                  49"
      ]
     },
     "execution_count": 19,
     "metadata": {},
     "output_type": "execute_result"
    }
   ],
   "source": [
    "# How many features are there of each data type?\n",
    "feat_info.groupby('type').count()"
   ]
  },
  {
   "cell_type": "code",
   "execution_count": 20,
   "metadata": {},
   "outputs": [
    {
     "data": {
      "text/plain": [
       "ANREDE_KZ            2\n",
       "CJT_GESAMTTYP        6\n",
       "FINANZTYP            6\n",
       "GFK_URLAUBERTYP     12\n",
       "GREEN_AVANTGARDE     2\n",
       "LP_FAMILIE_FEIN     11\n",
       "LP_FAMILIE_GROB      5\n",
       "LP_STATUS_FEIN      10\n",
       "LP_STATUS_GROB       5\n",
       "NATIONALITAET_KZ     3\n",
       "SHOPPER_TYP          4\n",
       "SOHO_KZ              2\n",
       "VERS_TYP             2\n",
       "ZABEOTYP             6\n",
       "GEBAEUDETYP          7\n",
       "OST_WEST_KZ          2\n",
       "CAMEO_DEUG_2015      9\n",
       "CAMEO_DEU_2015      44\n",
       "dtype: int64"
      ]
     },
     "execution_count": 20,
     "metadata": {},
     "output_type": "execute_result"
    }
   ],
   "source": [
    "# finding all the categorical features using feat_info\n",
    "#then identifying the binary and the multieleve categorical features\n",
    "\n",
    "cat = feat_info[feat_info['type'] == 'categorical']['attribute'].values\n",
    "cat = [x for x in cat if x in azdias.columns] # only the ones that are kept in azdias dataset\n",
    "cat_binary = [x for x in cat if azdias[x].nunique()==2]\n",
    "cat_multi = [x for x in cat if azdias[x].nunique()>2]\n",
    "azdias[cat].nunique()"
   ]
  },
  {
   "cell_type": "code",
   "execution_count": 21,
   "metadata": {},
   "outputs": [
    {
     "data": {
      "text/plain": [
       "['ANREDE_KZ', 'GREEN_AVANTGARDE', 'SOHO_KZ', 'VERS_TYP', 'OST_WEST_KZ']"
      ]
     },
     "execution_count": 21,
     "metadata": {},
     "output_type": "execute_result"
    }
   ],
   "source": [
    "# list of binary features\n",
    "cat_binary"
   ]
  },
  {
   "cell_type": "code",
   "execution_count": 22,
   "metadata": {},
   "outputs": [
    {
     "name": "stdout",
     "output_type": "stream",
     "text": [
      "ANREDE_KZ [2 1]\n",
      "GREEN_AVANTGARDE [0 1]\n",
      "SOHO_KZ [ 1.  0.]\n",
      "VERS_TYP [  2.   1.  nan]\n",
      "OST_WEST_KZ ['W' 'O']\n"
     ]
    }
   ],
   "source": [
    "# locating the non numeric binary feature\n",
    "for a in cat_binary: \n",
    "    print (a, azdias_rows_missing_low[a].unique())"
   ]
  },
  {
   "cell_type": "code",
   "execution_count": 23,
   "metadata": {},
   "outputs": [],
   "source": [
    "# replacing the non numeric binary feature values with binary values in feature OST_WEST_KZ\n",
    "azdias_rows_missing_low.loc[:, 'OST_WEST_KZ'].replace({'W':0, 'O':1}, inplace=True);"
   ]
  },
  {
   "cell_type": "code",
   "execution_count": 24,
   "metadata": {},
   "outputs": [],
   "source": [
    "#removing the categorical column with 44 features from the analysis\n",
    "cat_multi.remove('CAMEO_DEU_2015')\n",
    "azdias_rows_missing_low.drop('CAMEO_DEU_2015', axis=1, inplace=True)"
   ]
  },
  {
   "cell_type": "code",
   "execution_count": 25,
   "metadata": {},
   "outputs": [
    {
     "data": {
      "text/plain": [
       "78"
      ]
     },
     "execution_count": 25,
     "metadata": {},
     "output_type": "execute_result"
    }
   ],
   "source": [
    "# checking the number of columns after dropping the one in the above step\n",
    "azdias_rows_missing_low.shape[1]"
   ]
  },
  {
   "cell_type": "code",
   "execution_count": 26,
   "metadata": {},
   "outputs": [
    {
     "data": {
      "text/plain": [
       "['CJT_GESAMTTYP',\n",
       " 'FINANZTYP',\n",
       " 'GFK_URLAUBERTYP',\n",
       " 'LP_FAMILIE_FEIN',\n",
       " 'LP_FAMILIE_GROB',\n",
       " 'LP_STATUS_FEIN',\n",
       " 'LP_STATUS_GROB',\n",
       " 'NATIONALITAET_KZ',\n",
       " 'SHOPPER_TYP',\n",
       " 'ZABEOTYP',\n",
       " 'GEBAEUDETYP',\n",
       " 'CAMEO_DEUG_2015']"
      ]
     },
     "execution_count": 26,
     "metadata": {},
     "output_type": "execute_result"
    }
   ],
   "source": [
    "cat_multi"
   ]
  },
  {
   "cell_type": "code",
   "execution_count": 27,
   "metadata": {},
   "outputs": [],
   "source": [
    "# for multi level categorical variables, first filter the rows with no nan values\n",
    "#then loop over each column in the cat_multi variable to first one hot encode th dummy variables, then join the new dummy colmns\n",
    "#to the original data followed by dropping the original column itself from the azdias_rows_missing_low dataset\n",
    "for y in cat_multi:\n",
    "    temp_data = azdias_rows_missing_low[y][azdias_rows_missing_low[y].notnull()]\n",
    "    ohe_data = pd.get_dummies(temp_data, prefix = y)\n",
    "    azdias_rows_missing_low =azdias_rows_missing_low.join(ohe_data)\n",
    "    azdias_rows_missing_low.drop([y], axis = 1, inplace = True)"
   ]
  },
  {
   "cell_type": "code",
   "execution_count": 28,
   "metadata": {},
   "outputs": [
    {
     "data": {
      "text/plain": [
       "(797077, 150)"
      ]
     },
     "execution_count": 28,
     "metadata": {},
     "output_type": "execute_result"
    }
   ],
   "source": [
    "azdias_rows_missing_low.shape"
   ]
  },
  {
   "cell_type": "code",
   "execution_count": 29,
   "metadata": {},
   "outputs": [
    {
     "name": "stdout",
     "output_type": "stream",
     "text": [
      "<class 'pandas.core.frame.DataFrame'>\n",
      "Int64Index: 797077 entries, 1 to 891220\n",
      "Columns: 150 entries, ALTERSKATEGORIE_GROB to CAMEO_DEUG_2015_9\n",
      "dtypes: float64(107), int64(23), object(1), uint8(19)\n",
      "memory usage: 837.2+ MB\n"
     ]
    }
   ],
   "source": [
    "azdias_rows_missing_low.info()"
   ]
  },
  {
   "cell_type": "markdown",
   "metadata": {},
   "source": [
    "#### Discussion 1.2.1: Re-Encode Categorical Features\n",
    "\n",
    "- For the binary categorical features: \n",
    "    - the feature with non numeric binary values was identified and non numeric values were replaced with numeric values\n",
    "- For multi level categorical features:\n",
    "    - The feature with 44 variable values was dropped from the dataset (and the analysis)\n",
    "    - For remainder of the multi level features, one hot encoding was done to prepare these for analysis. "
   ]
  },
  {
   "cell_type": "markdown",
   "metadata": {},
   "source": [
    "#### Step 1.2.2: Engineer Mixed-Type Features\n",
    "\n",
    "There are a handful of features that are marked as \"mixed\" in the feature summary that require special treatment in order to be included in the analysis. There are two in particular that deserve attention; the handling of the rest are up to your own choices:\n",
    "- \"PRAEGENDE_JUGENDJAHRE\" combines information on three dimensions: generation by decade, movement (mainstream vs. avantgarde), and nation (east vs. west). While there aren't enough levels to disentangle east from west, you should create two new variables to capture the other two dimensions: an interval-type variable for decade, and a binary variable for movement.\n",
    "- \"CAMEO_INTL_2015\" combines information on two axes: wealth and life stage. Break up the two-digit codes by their 'tens'-place and 'ones'-place digits into two new ordinal variables (which, for the purposes of this project, is equivalent to just treating them as their raw numeric values).\n",
    "- If you decide to keep or engineer new features around the other mixed-type features, make sure you note your steps in the Discussion section.\n",
    "\n",
    "Be sure to check `Data_Dictionary.md` for the details needed to finish these tasks."
   ]
  },
  {
   "cell_type": "code",
   "execution_count": 30,
   "metadata": {},
   "outputs": [
    {
     "data": {
      "text/html": [
       "<div>\n",
       "<style scoped>\n",
       "    .dataframe tbody tr th:only-of-type {\n",
       "        vertical-align: middle;\n",
       "    }\n",
       "\n",
       "    .dataframe tbody tr th {\n",
       "        vertical-align: top;\n",
       "    }\n",
       "\n",
       "    .dataframe thead th {\n",
       "        text-align: right;\n",
       "    }\n",
       "</style>\n",
       "<table border=\"1\" class=\"dataframe\">\n",
       "  <thead>\n",
       "    <tr style=\"text-align: right;\">\n",
       "      <th></th>\n",
       "      <th>PRAEGENDE_JUGENDJAHRE</th>\n",
       "    </tr>\n",
       "  </thead>\n",
       "  <tbody>\n",
       "    <tr>\n",
       "      <th>count</th>\n",
       "      <td>768753.000000</td>\n",
       "    </tr>\n",
       "    <tr>\n",
       "      <th>mean</th>\n",
       "      <td>9.279761</td>\n",
       "    </tr>\n",
       "    <tr>\n",
       "      <th>std</th>\n",
       "      <td>4.025921</td>\n",
       "    </tr>\n",
       "    <tr>\n",
       "      <th>min</th>\n",
       "      <td>1.000000</td>\n",
       "    </tr>\n",
       "    <tr>\n",
       "      <th>25%</th>\n",
       "      <td>6.000000</td>\n",
       "    </tr>\n",
       "    <tr>\n",
       "      <th>50%</th>\n",
       "      <td>9.000000</td>\n",
       "    </tr>\n",
       "    <tr>\n",
       "      <th>75%</th>\n",
       "      <td>14.000000</td>\n",
       "    </tr>\n",
       "    <tr>\n",
       "      <th>max</th>\n",
       "      <td>15.000000</td>\n",
       "    </tr>\n",
       "  </tbody>\n",
       "</table>\n",
       "</div>"
      ],
      "text/plain": [
       "       PRAEGENDE_JUGENDJAHRE\n",
       "count          768753.000000\n",
       "mean                9.279761\n",
       "std                 4.025921\n",
       "min                 1.000000\n",
       "25%                 6.000000\n",
       "50%                 9.000000\n",
       "75%                14.000000\n",
       "max                15.000000"
      ]
     },
     "execution_count": 30,
     "metadata": {},
     "output_type": "execute_result"
    }
   ],
   "source": [
    "# Investigate \"PRAEGENDE_JUGENDJAHRE\" and engineer two new variables.\n",
    "azdias_rows_missing_low[['PRAEGENDE_JUGENDJAHRE']].describe()"
   ]
  },
  {
   "cell_type": "code",
   "execution_count": 31,
   "metadata": {},
   "outputs": [],
   "source": [
    "# creating movement capturing variable for PRAEGENDE_JUGENDJAHRE\n",
    "mainstream = [1,3,5,8,10,12,14]  # mainstream values as indicated in Data_Dictionary.md\n",
    "avantgarde = [2,4,5,7,9,11,13,15]  # avantgarde values as indicated in Data_Dictionary.md\n",
    "\n",
    "def movement(z):\n",
    "    if z in mainstream:\n",
    "        return 1\n",
    "    if z in avantgarde:\n",
    "        return 0\n",
    "    else:\n",
    "        return z\n",
    "azdias_rows_missing_low['PRAEGENDE_JUGENDJAHRE_MOVEMENT'] = azdias_rows_missing_low['PRAEGENDE_JUGENDJAHRE'].apply(movement)"
   ]
  },
  {
   "cell_type": "code",
   "execution_count": 32,
   "metadata": {},
   "outputs": [],
   "source": [
    "#creating varaible to capture generation by decade\n",
    "a = [1, 2, 3, 4, 5, 6, 7, 8, 9, 10, 11, 12, 13, 14, 15] \n",
    "b = [40, 40, 50, 50, 60, 60, 60, 70, 70, 80, 80, 80, 80, 90, 90] #VARIABLES a and b contain the index ad the decade value maaped \n",
    "                                                                #to the index per Data_Dictionary.md\n",
    "\n",
    "gen_by_decade = pd.Series(b, index = a)\n",
    "azdias_rows_missing_low['PRAEGENDE_JUGENDJAHRE_GEN_BY_DECADE'] = azdias_rows_missing_low['PRAEGENDE_JUGENDJAHRE'].map(gen_by_decade)"
   ]
  },
  {
   "cell_type": "code",
   "execution_count": 33,
   "metadata": {},
   "outputs": [
    {
     "data": {
      "text/plain": [
       "1    51\n",
       "2    24\n",
       "3    12\n",
       "4    43\n",
       "5    54\n",
       "Name: CAMEO_INTL_2015, dtype: object"
      ]
     },
     "execution_count": 33,
     "metadata": {},
     "output_type": "execute_result"
    }
   ],
   "source": [
    "# Investigate \"CAMEO_INTL_2015\" and engineer two new variables.\n",
    "azdias_rows_missing_low['CAMEO_INTL_2015'].head()"
   ]
  },
  {
   "cell_type": "code",
   "execution_count": 34,
   "metadata": {},
   "outputs": [],
   "source": [
    "azdias_rows_missing_low['CAMEO_INTL_2015_wealth'] = azdias_rows_missing_low['CAMEO_INTL_2015'].str[0] # extract tens place digit and put it in the new column\n",
    "azdias_rows_missing_low['CAMEO_INTL_2015_lifestage'] = azdias_rows_missing_low['CAMEO_INTL_2015'].str[1] # extract ones place digit"
   ]
  },
  {
   "cell_type": "code",
   "execution_count": 35,
   "metadata": {},
   "outputs": [
    {
     "data": {
      "text/plain": [
       "1    5\n",
       "2    2\n",
       "3    1\n",
       "4    4\n",
       "5    5\n",
       "Name: CAMEO_INTL_2015_wealth, dtype: object"
      ]
     },
     "execution_count": 35,
     "metadata": {},
     "output_type": "execute_result"
    }
   ],
   "source": [
    "azdias_rows_missing_low['CAMEO_INTL_2015_wealth'].head() # checking work"
   ]
  },
  {
   "cell_type": "code",
   "execution_count": 36,
   "metadata": {},
   "outputs": [
    {
     "data": {
      "text/plain": [
       "['LP_LEBENSPHASE_FEIN',\n",
       " 'LP_LEBENSPHASE_GROB',\n",
       " 'PRAEGENDE_JUGENDJAHRE',\n",
       " 'WOHNLAGE',\n",
       " 'CAMEO_INTL_2015',\n",
       " 'PLZ8_BAUMAX']"
      ]
     },
     "execution_count": 36,
     "metadata": {},
     "output_type": "execute_result"
    }
   ],
   "source": [
    "# Drop remainder of the mixed type columns from data\n",
    "drop_columns2 = []\n",
    "for attribute in feat_info[feat_info['type']=='mixed'].attribute:\n",
    "    drop_columns2.append(attribute)\n",
    "drop_columns2.remove('KBA05_BAUMAX') # KBA05_BAUMAX was removed previously in section 1.1.2\n",
    "drop_columns2"
   ]
  },
  {
   "cell_type": "code",
   "execution_count": 37,
   "metadata": {},
   "outputs": [
    {
     "name": "stdout",
     "output_type": "stream",
     "text": [
      "<class 'pandas.core.frame.DataFrame'>\n",
      "Int64Index: 797077 entries, 1 to 891220\n",
      "Columns: 148 entries, ALTERSKATEGORIE_GROB to CAMEO_INTL_2015_lifestage\n",
      "dtypes: float64(104), int64(23), object(2), uint8(19)\n",
      "memory usage: 825.0+ MB\n"
     ]
    }
   ],
   "source": [
    "azdias_rows_missing_low.drop(drop_columns2, axis='columns', inplace=True)\n",
    "azdias_rows_missing_low.info()"
   ]
  },
  {
   "cell_type": "code",
   "execution_count": 38,
   "metadata": {},
   "outputs": [
    {
     "data": {
      "text/plain": [
       "TITEL_KZ            TITEL_KZ\n",
       "AGER_TYP            AGER_TYP\n",
       "KK_KUNDENTYP    KK_KUNDENTYP\n",
       "KBA05_BAUMAX    KBA05_BAUMAX\n",
       "GEBURTSJAHR      GEBURTSJAHR\n",
       "ALTER_HH            ALTER_HH\n",
       "Name: column_name, dtype: object"
      ]
     },
     "execution_count": 38,
     "metadata": {},
     "output_type": "execute_result"
    }
   ],
   "source": [
    "drop_columns"
   ]
  },
  {
   "cell_type": "code",
   "execution_count": 39,
   "metadata": {},
   "outputs": [
    {
     "data": {
      "text/plain": [
       "['LP_LEBENSPHASE_FEIN',\n",
       " 'LP_LEBENSPHASE_GROB',\n",
       " 'PRAEGENDE_JUGENDJAHRE',\n",
       " 'WOHNLAGE',\n",
       " 'CAMEO_INTL_2015',\n",
       " 'PLZ8_BAUMAX']"
      ]
     },
     "execution_count": 39,
     "metadata": {},
     "output_type": "execute_result"
    }
   ],
   "source": [
    "drop_columns2"
   ]
  },
  {
   "cell_type": "markdown",
   "metadata": {},
   "source": [
    "#### Discussion 1.2.2: Engineer Mixed-Type Features\n",
    "\n",
    "- The data from column  PRAEGENDE_JUGENDJAHRE was divided into two new columns based on the information provided in Data_Dictionary.md:\n",
    "    1) based on the movement type\n",
    "    2) based on the generation by decade\n",
    "- The data from the column CAMEO_INTL_2015 was also divided over two new columns based on the instruction\n",
    "    1) tens place digit specifies the wealth\n",
    "    2) ones place digit specifies the lifestage\n",
    "- The rest of the mixed type columns, along with the original columns( PRAEGENDE_JUGENDJAHRE,CAMEO_INTL_2015) were dropped from the data set for analysis. "
   ]
  },
  {
   "cell_type": "markdown",
   "metadata": {},
   "source": [
    "#### Step 1.2.3: Complete Feature Selection\n",
    "\n",
    "In order to finish this step up, you need to make sure that your data frame now only has the columns that you want to keep. To summarize, the dataframe should consist of the following:\n",
    "- All numeric, interval, and ordinal type columns from the original dataset.\n",
    "- Binary categorical features (all numerically-encoded).\n",
    "- Engineered features from other multi-level categorical features and mixed features.\n",
    "\n",
    "Make sure that for any new columns that you have engineered, that you've excluded the original columns from the final dataset. Otherwise, their values will interfere with the analysis later on the project. For example, you should not keep \"PRAEGENDE_JUGENDJAHRE\", since its values won't be useful for the algorithm: only the values derived from it in the engineered features you created should be retained. As a reminder, your data should only be from **the subset with few or no missing values**."
   ]
  },
  {
   "cell_type": "code",
   "execution_count": 38,
   "metadata": {},
   "outputs": [],
   "source": [
    "# If there are other re-engineering tasks you need to perform, make sure you\n",
    "# take care of them here. (Dealing with missing data will come in step 2.1.)\n"
   ]
  },
  {
   "cell_type": "code",
   "execution_count": 40,
   "metadata": {},
   "outputs": [
    {
     "data": {
      "text/plain": [
       "array([dtype('uint8'), dtype('int64'), dtype('float64'), dtype('O')], dtype=object)"
      ]
     },
     "execution_count": 40,
     "metadata": {},
     "output_type": "execute_result"
    }
   ],
   "source": [
    "# Check that columns have the right type\n",
    "np.unique(azdias_rows_missing_low.dtypes.values)"
   ]
  },
  {
   "cell_type": "code",
   "execution_count": 41,
   "metadata": {},
   "outputs": [
    {
     "name": "stdout",
     "output_type": "stream",
     "text": [
      "<class 'pandas.core.frame.DataFrame'>\n",
      "Int64Index: 797077 entries, 1 to 891220\n",
      "Columns: 148 entries, ALTERSKATEGORIE_GROB to CAMEO_INTL_2015_lifestage\n",
      "dtypes: float64(104), int64(23), object(2), uint8(19)\n",
      "memory usage: 825.0+ MB\n"
     ]
    }
   ],
   "source": [
    "azdias_rows_missing_low.info()"
   ]
  },
  {
   "cell_type": "code",
   "execution_count": 41,
   "metadata": {},
   "outputs": [],
   "source": [
    "# Do whatever you need to in order to ensure that the dataframe only contains\n",
    "# the columns that should be passed to the algorithm functions.\n",
    "\n"
   ]
  },
  {
   "cell_type": "markdown",
   "metadata": {},
   "source": [
    "### Step 1.3: Create a Cleaning Function\n",
    "\n",
    "Even though you've finished cleaning up the general population demographics data, it's important to look ahead to the future and realize that you'll need to perform the same cleaning steps on the customer demographics data. In this substep, complete the function below to execute the main feature selection, encoding, and re-engineering steps you performed above. Then, when it comes to looking at the customer data in Step 3, you can just run this function on that DataFrame to get the trimmed dataset in a single step."
   ]
  },
  {
   "cell_type": "code",
   "execution_count": 42,
   "metadata": {},
   "outputs": [],
   "source": [
    "def clean_data(df):\n",
    "    \"\"\"\n",
    "    Perform feature trimming, re-encoding, and engineering for demographics\n",
    "    data\n",
    "    \n",
    "    INPUT: Demographics DataFrame\n",
    "    OUTPUT: Trimmed and cleaned demographics DataFrame\n",
    "    \"\"\"\n",
    "    \n",
    "    # Put in code here to execute all main cleaning steps:\n",
    "    # convert missing value codes into NaNs, ... (1.1)\n",
    "    for attribute in feat_info['attribute']:\n",
    "        temp = feat_info[feat_info['attribute']==attribute].missing_or_unknown.iloc[0].replace('[','').replace(']','').split(',')\n",
    "        nan_list = [float(x) if x.lstrip('-').isnumeric() else x for x in temp]\n",
    "        #lstrip for getting rid of the negative sign in the string\n",
    "        #isnumeric checks whether it is number or not\n",
    "        df[attribute].replace(to_replace=nan_list,\n",
    "                      value=np.nan, inplace=True)\n",
    "    # remove selected columns \n",
    "    df.drop(drop_columns, axis='columns', inplace=True)\n",
    "    #and rows, ...\n",
    "    df_n_miss = df.isnull().transpose().sum()\n",
    "    df_rows_missing_low = df[df_n_miss<20]\n",
    "    # select, re-encode, (1.2.1)\n",
    "    #all categorical columns split to binary and multi\n",
    "    cat = feat_info[feat_info['type'] == 'categorical']['attribute'].values\n",
    "    cat = [x for x in cat if x in  df_rows_missing_low.columns] # only the ones that are kept in azdias dataset\n",
    "    cat_binary = [x for x in cat if  df_rows_missing_low[x].nunique()==2]\n",
    "    cat_multi = [x for x in cat if df_rows_missing_low[x].nunique()>2]\n",
    "    # binary non numeric categorical column converted to numeric\n",
    "    df_rows_missing_low.loc[:, 'OST_WEST_KZ'].replace({'W':0, 'O':1}, inplace=True);\n",
    "    #drop CAMEO_DEU_2015 due to too many features(44)\n",
    "    cat_multi.remove('CAMEO_DEU_2015')\n",
    "    df_rows_missing_low.drop('CAMEO_DEU_2015', axis=1, inplace=True)\n",
    "    # One hot encode the remainder of the multi level categorical columns\n",
    "    for y in cat_multi:\n",
    "        temp_data = df_rows_missing_low[y][df_rows_missing_low[y].notnull()]\n",
    "        ohe_data = pd.get_dummies(temp_data, prefix = y)\n",
    "        df_rows_missing_low =df_rows_missing_low.join(ohe_data)\n",
    "        df_rows_missing_low.drop([y], axis = 1, inplace = True)\n",
    "\n",
    "    #and engineer column values (1.2.2)\n",
    "    #engineer PRAEGENDE_JUGENDJAHRE\n",
    "    #movement \n",
    "    mainstream = [1,3,5,8,10,12,14]  # mainstream values as indicated in Data_Dictionary.md\n",
    "    avantgarde = [2,4,5,7,9,11,13,15]  # avantgarde values as indicated in Data_Dictionary.md\n",
    "    df_rows_missing_low['PRAEGENDE_JUGENDJAHRE_MOVEMENT'] = df_rows_missing_low['PRAEGENDE_JUGENDJAHRE'].apply(movement)\n",
    "    #generation by decade\n",
    "    a = [1, 2, 3, 4, 5, 6, 7, 8, 9, 10, 11, 12, 13, 14, 15] \n",
    "    b = [40, 40, 50, 50, 60, 60, 60, 70, 70, 80, 80, 80, 80, 90, 90] #VARIABLES a and b contain the index ad the decade value maaped \n",
    "                                                              #to the index per Data_Dictionary.md\n",
    "    gen_by_decade = pd.Series(b, index = a)\n",
    "    df_rows_missing_low['PRAEGENDE_JUGENDJAHRE_GEN_BY_DECADE'] = df_rows_missing_low['PRAEGENDE_JUGENDJAHRE'].map(gen_by_decade)\n",
    "\n",
    "    #engineer CAMEO_INTL_2015\n",
    "    #wealth\n",
    "    df_rows_missing_low['CAMEO_INTL_2015_wealth'] = df_rows_missing_low['CAMEO_INTL_2015'].str[0] # extract tens place digit and put it in the new column\n",
    "    #lifestage\n",
    "    df_rows_missing_low['CAMEO_INTL_2015_lifestage'] = df_rows_missing_low['CAMEO_INTL_2015'].str[1] # extract ones place digit\n",
    "\n",
    "    # Drop remainder of the mixed type columns from data\n",
    "    drop_columns2 = []\n",
    "    for attribute in feat_info[feat_info['type']=='mixed'].attribute:\n",
    "        drop_columns2.append(attribute)\n",
    "    drop_columns2.remove('KBA05_BAUMAX') # KBA05_BAUMAX was removed previously in section 1.1.2\n",
    "    df_rows_missing_low.drop(drop_columns2, axis='columns', inplace=True)\n",
    "\n",
    "    # Add columns filled with zero for column wih no data\n",
    "    columns = [col for col in azdias_rows_missing_low if col not in df_rows_missing_low]\n",
    "    for column in columns:\n",
    "        df_rows_missing_low[column] = 0\n",
    "\n",
    "    \n",
    "    #Return the cleaned dataframe.\n",
    "    return df_rows_missing_low\n"
   ]
  },
  {
   "cell_type": "markdown",
   "metadata": {},
   "source": [
    "## Step 2: Feature Transformation\n",
    "\n",
    "### Step 2.1: Apply Feature Scaling\n",
    "\n",
    "Before we apply dimensionality reduction techniques to the data, we need to perform feature scaling so that the principal component vectors are not influenced by the natural differences in scale for features. Starting from this part of the project, you'll want to keep an eye on the [API reference page for sklearn](http://scikit-learn.org/stable/modules/classes.html) to help you navigate to all of the classes and functions that you'll need. In this substep, you'll need to check the following:\n",
    "\n",
    "- sklearn requires that data not have missing values in order for its estimators to work properly. So, before applying the scaler to your data, make sure that you've cleaned the DataFrame of the remaining missing values. This can be as simple as just removing all data points with missing data, or applying an [Imputer](http://scikit-learn.org/stable/modules/generated/sklearn.preprocessing.Imputer.html) to replace all missing values. You might also try a more complicated procedure where you temporarily remove missing values in order to compute the scaling parameters before re-introducing those missing values and applying imputation. Think about how much missing data you have and what possible effects each approach might have on your analysis, and justify your decision in the discussion section below.\n",
    "- For the actual scaling function, a [StandardScaler](http://scikit-learn.org/stable/modules/generated/sklearn.preprocessing.StandardScaler.html) instance is suggested, scaling each feature to mean 0 and standard deviation 1.\n",
    "- For these classes, you can make use of the `.fit_transform()` method to both fit a procedure to the data as well as apply the transformation to the data at the same time. Don't forget to keep the fit sklearn objects handy, since you'll be applying them to the customer demographics data towards the end of the project."
   ]
  },
  {
   "cell_type": "code",
   "execution_count": 43,
   "metadata": {},
   "outputs": [],
   "source": [
    "# If you've not yet cleaned the dataset of all NaN values, then investigate and\n",
    "# do that now.\n",
    "imputer = Imputer()\n",
    "azdias_rows_missing_low = pd.DataFrame(imputer.fit_transform(azdias_rows_missing_low), columns = azdias_rows_missing_low.columns)"
   ]
  },
  {
   "cell_type": "code",
   "execution_count": 44,
   "metadata": {},
   "outputs": [
    {
     "data": {
      "text/plain": [
       "False"
      ]
     },
     "execution_count": 44,
     "metadata": {},
     "output_type": "execute_result"
    }
   ],
   "source": [
    "azdias_rows_missing_low.isnull().values.any()"
   ]
  },
  {
   "cell_type": "code",
   "execution_count": 45,
   "metadata": {},
   "outputs": [],
   "source": [
    "# Apply feature scaling to the general population demographics data.\n",
    "scaler = StandardScaler()\n",
    "azdias_rows__missing_low = pd.DataFrame(scaler.fit_transform(azdias_rows_missing_low), columns = azdias_rows_missing_low.columns)\n"
   ]
  },
  {
   "cell_type": "code",
   "execution_count": 46,
   "metadata": {},
   "outputs": [
    {
     "data": {
      "text/plain": [
       "(797077, 148)"
      ]
     },
     "execution_count": 46,
     "metadata": {},
     "output_type": "execute_result"
    }
   ],
   "source": [
    "azdias_rows__missing_low.shape"
   ]
  },
  {
   "cell_type": "markdown",
   "metadata": {},
   "source": [
    "### Discussion 2.1: Apply Feature Scaling\n",
    "\n",
    "In this step the following were performed:\n",
    "1) Used Imputer package from sklearn to impute the missing values in the data set (remember, we only retained the rowswith less than 20 missing column values previously) with column mean. \n",
    "2) Used standard scaler package in sklearn to scale the features.     "
   ]
  },
  {
   "cell_type": "markdown",
   "metadata": {},
   "source": [
    "### Step 2.2: Perform Dimensionality Reduction\n",
    "\n",
    "On your scaled data, you are now ready to apply dimensionality reduction techniques.\n",
    "\n",
    "- Use sklearn's [PCA](http://scikit-learn.org/stable/modules/generated/sklearn.decomposition.PCA.html) class to apply principal component analysis on the data, thus finding the vectors of maximal variance in the data. To start, you should not set any parameters (so all components are computed) or set a number of components that is at least half the number of features (so there's enough features to see the general trend in variability).\n",
    "- Check out the ratio of variance explained by each principal component as well as the cumulative variance explained. Try plotting the cumulative or sequential values using matplotlib's [`plot()`](https://matplotlib.org/api/_as_gen/matplotlib.pyplot.plot.html) function. Based on what you find, select a value for the number of transformed features you'll retain for the clustering part of the project.\n",
    "- Once you've made a choice for the number of components to keep, make sure you re-fit a PCA instance to perform the decided-on transformation."
   ]
  },
  {
   "cell_type": "code",
   "execution_count": 47,
   "metadata": {},
   "outputs": [],
   "source": [
    "# Apply PCA to the data.\n",
    "pca = PCA()\n",
    "general_data_pca = pca.fit_transform(azdias_rows__missing_low)"
   ]
  },
  {
   "cell_type": "code",
   "execution_count": 48,
   "metadata": {},
   "outputs": [],
   "source": [
    "def scree_plot(pca, percent_var):\n",
    "    '''\n",
    "    Creates a scree plot associated with the principal components \n",
    "    \n",
    "    INPUT: pca - the result of instantian of PCA in scikit learn\n",
    "            \n",
    "    OUTPUT:\n",
    "            None\n",
    "    '''\n",
    "    num_components=len(pca.explained_variance_ratio_)\n",
    "    ind = np.arange(num_components)\n",
    "    vals = pca.explained_variance_ratio_\n",
    " \n",
    "    plt.figure(figsize=(20, 10))\n",
    "    ax = plt.subplot(111)\n",
    "    cumvals = np.cumsum(vals)\n",
    "    ax.bar(ind, vals)\n",
    "    ax.plot(ind, cumvals)\n",
    "    ax.axhline(percent_var, linestyle='dashed', color='black')\n",
    "    ax.xaxis.grid()\n",
    "    for i in range(num_components):\n",
    "        ax.annotate(r\"%s%%\" % ((str(vals[i]*100)[:4])), (ind[i]+0.2, vals[i]), va=\"bottom\", ha=\"center\", fontsize=12)\n",
    " \n",
    "    ax.xaxis.set_tick_params(width=0)\n",
    "    ax.yaxis.set_tick_params(width=2, length=12)\n",
    " \n",
    "    ax.set_xlabel(\"Principal Component\")\n",
    "    ax.set_ylabel(\"Variance Explained (%)\")\n",
    "    plt.title('Explained Variance Per Principal Component')"
   ]
  },
  {
   "cell_type": "code",
   "execution_count": 49,
   "metadata": {},
   "outputs": [
    {
     "data": {
      "image/png": "[encoded data removed]",
      "text/plain": [
       "<matplotlib.figure.Figure at 0x7fd30d414550>"
      ]
     },
     "metadata": {
      "needs_background": "light"
     },
     "output_type": "display_data"
    }
   ],
   "source": [
    "# Investigate the variance accounted for by each principal component.\n",
    "v = scree_plot(pca, 0.8)\n"
   ]
  },
  {
   "cell_type": "code",
   "execution_count": 50,
   "metadata": {},
   "outputs": [
    {
     "data": {
      "image/png": "[encoded data removed]",
      "text/plain": [
       "<matplotlib.figure.Figure at 0x7fd30d0c3be0>"
      ]
     },
     "metadata": {
      "needs_background": "light"
     },
     "output_type": "display_data"
    }
   ],
   "source": [
    "v = scree_plot(pca, 0.6)"
   ]
  },
  {
   "cell_type": "code",
   "execution_count": 51,
   "metadata": {},
   "outputs": [],
   "source": [
    "# Re-apply PCA to the data while selecting for number of components to retain.\n",
    "pca = PCA(40)\n",
    "general_data_pca = pca.fit_transform(azdias_rows__missing_low)"
   ]
  },
  {
   "cell_type": "code",
   "execution_count": 52,
   "metadata": {},
   "outputs": [
    {
     "data": {
      "text/plain": [
       "0.65371926493395782"
      ]
     },
     "execution_count": 52,
     "metadata": {},
     "output_type": "execute_result"
    }
   ],
   "source": [
    "pca.explained_variance_ratio_.sum()"
   ]
  },
  {
   "cell_type": "raw",
   "metadata": {},
   "source": []
  },
  {
   "cell_type": "markdown",
   "metadata": {},
   "source": [
    "### Discussion 2.2: Perform Dimensionality Reduction\n",
    "\n",
    "In this step PCA was applied to all the components, and a scree plot (using the provided helper functions) was added to assess the principal components amounting to 80% and 60% variance in the data. \n",
    "Then, pca was performed again, retaining 40 features - which explain a little over 60% of the totla variance in the data set. "
   ]
  },
  {
   "cell_type": "markdown",
   "metadata": {},
   "source": [
    "### Step 2.3: Interpret Principal Components\n",
    "\n",
    "Now that we have our transformed principal components, it's a nice idea to check out the weight of each variable on the first few components to see if they can be interpreted in some fashion.\n",
    "\n",
    "As a reminder, each principal component is a unit vector that points in the direction of highest variance (after accounting for the variance captured by earlier principal components). The further a weight is from zero, the more the principal component is in the direction of the corresponding feature. If two features have large weights of the same sign (both positive or both negative), then increases in one tend expect to be associated with increases in the other. To contrast, features with different signs can be expected to show a negative correlation: increases in one variable should result in a decrease in the other.\n",
    "\n",
    "- To investigate the features, you should map each weight to their corresponding feature name, then sort the features according to weight. The most interesting features for each principal component, then, will be those at the beginning and end of the sorted list. Use the data dictionary document to help you understand these most prominent features, their relationships, and what a positive or negative value on the principal component might indicate.\n",
    "- You should investigate and interpret feature associations from the first three principal components in this substep. To help facilitate this, you should write a function that you can call at any time to print the sorted list of feature weights, for the *i*-th principal component. This might come in handy in the next step of the project, when you interpret the tendencies of the discovered clusters."
   ]
  },
  {
   "cell_type": "code",
   "execution_count": 53,
   "metadata": {},
   "outputs": [],
   "source": [
    "# Map weights for the first principal component to corresponding feature names\n",
    "# and then print the linked values, sorted by weight.\n",
    "# HINT: Try defining a function here or in a new cell that you can reuse in the\n",
    "# other cells.\n",
    "def weight_mapper(df, pca, n_princ_component):\n",
    "    pca_component = pd.DataFrame(np.round(pca.components_, 4), columns = df.keys()).iloc[n_princ_component-1]\n",
    "    pca_component.sort_values(ascending=False, inplace=True)\n",
    "    pca_component = pd.concat([pca_component.head(8), pca_component.tail(8)])\n",
    "    \n",
    "    \n",
    "    pca_component.plot(kind='bar', title='Principal component ' + str(n_princ_component))\n",
    "    ax = plt.gca()\n",
    "    ax.grid(linewidth='0.5', alpha=0.5)\n",
    "    ax.set_axisbelow(True)\n",
    "    plt.show()"
   ]
  },
  {
   "cell_type": "code",
   "execution_count": 54,
   "metadata": {},
   "outputs": [
    {
     "data": {
      "image/png": "[encoded data removed]",
      "text/plain": [
       "<matplotlib.figure.Figure at 0x7fd30d3b2c18>"
      ]
     },
     "metadata": {
      "needs_background": "light"
     },
     "output_type": "display_data"
    }
   ],
   "source": [
    "weight_mapper(azdias_rows__missing_low, pca, 1)"
   ]
  },
  {
   "cell_type": "code",
   "execution_count": 55,
   "metadata": {},
   "outputs": [
    {
     "data": {
      "image/png": "[encoded data removed]",
      "text/plain": [
       "<matplotlib.figure.Figure at 0x7fd3001830b8>"
      ]
     },
     "metadata": {
      "needs_background": "light"
     },
     "output_type": "display_data"
    }
   ],
   "source": [
    "# Map weights for the second principal component to corresponding feature names\n",
    "# and then print the linked values, sorted by weight.\n",
    "weight_mapper(azdias_rows__missing_low, pca, 2)"
   ]
  },
  {
   "cell_type": "code",
   "execution_count": 56,
   "metadata": {},
   "outputs": [
    {
     "data": {
      "image/png": "[encoded data removed]",
      "text/plain": [
       "<matplotlib.figure.Figure at 0x7fa1bb94c0f0>"
      ]
     },
     "metadata": {
      "needs_background": "light"
     },
     "output_type": "display_data"
    }
   ],
   "source": [
    "# Map weights for the third principal component to corresponding feature names\n",
    "# and then print the linked values, sorted by weight.\n",
    "weight_mapper(azdias_rows__missing_low, pca, 3)\n"
   ]
  },
  {
   "cell_type": "markdown",
   "metadata": {},
   "source": [
    "### Discussion 2.3: Interpret Principal Components\n",
    "\n",
    "#### First Principal Component\n",
    "Positive associations: \n",
    "LP_STATUS_GROB_1: low-income earners\n",
    "HH_EINKOMMEN_SCORE: Estimated household income (lower income groups have higher score)\n",
    "PLZ8_ANTG3: # of 6-10 family houses in PLZ8 region\n",
    "\n",
    "Negative associations:\n",
    "MOBI_REGIO: Movement pattern (higher score means less movement)\n",
    "FINANZ_MINIMALIST: Financial tYpology(higher score means lower financial interest)\n",
    "KBA05_ANTG1: number of 1-2 family houses in microcell\n",
    "\n",
    "#### Second Principal Component\n",
    "Positive associations: \n",
    "ALTERSKATEGORIE_GROB: Estimated age (older individuals score higher)\n",
    "FINANZ_VORSORGER: Financial typology, be prepared (higher score means lower financial interest)\n",
    "ZABEOTYP_3: Energy consumption, fair supplied (binary)\n",
    "\n",
    "Negative associations:\n",
    "PRAEGENDE_JUGENDJAHRE_decade: Decade of movement of person's youth (highest is 90s)\n",
    "FINANZ_SPARER: Financial typology, MONEY-SPARER (higher score means lower financial interest)\n",
    "FINANZ_UNAUFFAELLIGER: Financial typology, inconspicuous (higher score is lower interest))\n",
    "\n",
    "#### Third Principal Component\n",
    "Positive associations: \n",
    "SEMIO_VERT: Personality typology - dreamful (higher score shows lower affinity)\n",
    "SEMIO_FAM: Personality typology - family-minded (higher score shows lower affinity)\n",
    "SEMIO_SOZ: Personality typology - socially-minded (higher score shows lower affinity)\n",
    "\n",
    "Negative associations:\n",
    "ANREDE_KZ: Gender\n",
    "SEMIO_KAEM: Personality typology - combative attitude (higher score shows lower affinity)\n",
    "SEMIO_DOM: Personality typology - dominant-minded (higher score shows lower affinity)"
   ]
  },
  {
   "cell_type": "markdown",
   "metadata": {},
   "source": [
    "## Step 3: Clustering\n",
    "\n",
    "### Step 3.1: Apply Clustering to General Population\n",
    "\n",
    "You've assessed and cleaned the demographics data, then scaled and transformed them. Now, it's time to see how the data clusters in the principal components space. In this substep, you will apply k-means clustering to the dataset and use the average within-cluster distances from each point to their assigned cluster's centroid to decide on a number of clusters to keep.\n",
    "\n",
    "- Use sklearn's [KMeans](http://scikit-learn.org/stable/modules/generated/sklearn.cluster.KMeans.html#sklearn.cluster.KMeans) class to perform k-means clustering on the PCA-transformed data.\n",
    "- Then, compute the average difference from each point to its assigned cluster's center. **Hint**: The KMeans object's `.score()` method might be useful here, but note that in sklearn, scores tend to be defined so that larger is better. Try applying it to a small, toy dataset, or use an internet search to help your understanding.\n",
    "- Perform the above two steps for a number of different cluster counts. You can then see how the average distance decreases with an increasing number of clusters. However, each additional cluster provides a smaller net benefit. Use this fact to select a final number of clusters in which to group the data. **Warning**: because of the large size of the dataset, it can take a long time for the algorithm to resolve. The more clusters to fit, the longer the algorithm will take. You should test for cluster counts through at least 10 clusters to get the full picture, but you shouldn't need to test for a number of clusters above about 30.\n",
    "- Once you've selected a final number of clusters to use, re-fit a KMeans instance to perform the clustering operation. Make sure that you also obtain the cluster assignments for the general demographics data, since you'll be using them in the final Step 3.3."
   ]
  },
  {
   "cell_type": "code",
   "execution_count": 56,
   "metadata": {},
   "outputs": [],
   "source": [
    "pca_features_sample = general_data_pca[np.random.choice(general_data_pca.shape[0], \\\n",
    "                                                    int(general_data_pca.shape[0]*0.2), replace=False)]"
   ]
  },
  {
   "cell_type": "code",
   "execution_count": 57,
   "metadata": {},
   "outputs": [
    {
     "data": {
      "image/png": "[encoded data removed]",
      "text/plain": [
       "<matplotlib.figure.Figure at 0x7fd300129278>"
      ]
     },
     "metadata": {
      "needs_background": "light"
     },
     "output_type": "display_data"
    }
   ],
   "source": [
    "# Over a number of different cluster counts...\n",
    "# run k-means clustering on the data and...\n",
    "# compute the average within-cluster distances.\n",
    "\n",
    "km_score = []\n",
    "k_range = np.arange(5, 28)\n",
    "\n",
    "for k in k_range:\n",
    "    kmeans = KMeans(k).fit(pca_features_sample)\n",
    "    km_score.append(np.abs(kmeans.score(pca_features_sample)))\n",
    "    \n",
    "plt.plot(k_range, km_score, linestyle='-', marker='o');\n",
    "plt.xlabel('Cluster count (K)');\n",
    "plt.ylabel('Score');\n",
    "plt.title('Cluster count (K) vs. kmeans.score');\n"
   ]
  },
  {
   "cell_type": "code",
   "execution_count": 59,
   "metadata": {},
   "outputs": [],
   "source": [
    "# Investigate the change in within-cluster distance across number of clusters.\n",
    "# HINT: Use matplotlib's plot function to visualize this relationship.\n",
    "\n"
   ]
  },
  {
   "cell_type": "code",
   "execution_count": 58,
   "metadata": {},
   "outputs": [],
   "source": [
    "# Re-fit the k-means model with the selected number of clusters and obtain\n",
    "# cluster predictions for the general population demographics data.\n",
    "\n",
    "kmeans = KMeans(25).fit(general_data_pca)\n",
    "kmeans_pop = kmeans.predict(general_data_pca)\n"
   ]
  },
  {
   "cell_type": "code",
   "execution_count": null,
   "metadata": {},
   "outputs": [],
   "source": [
    "kmeans_pop"
   ]
  },
  {
   "cell_type": "markdown",
   "metadata": {},
   "source": [
    "### Discussion 3.1: Apply Clustering to General Population\n",
    "used as a reasonable choice for \n",
    "General population data was subsectioned to retain only 20% for faster computing, then clustring performance was evaluatd using the scree plot function provided in helper functions for visualizing the number of clusters that give the best (lowest) score. CLusters count in the range 5-28 was evaluated, and elbow was not observed. Since the project instructions recommned keeping the total number of clusters below 30, I decided to use 25 clusters."
   ]
  },
  {
   "cell_type": "markdown",
   "metadata": {},
   "source": [
    "### Step 3.2: Apply All Steps to the Customer Data\n",
    "\n",
    "Now that you have clusters and cluster centers for the general population, it's time to see how the customer data maps on to those clusters. Take care to not confuse this for re-fitting all of the models to the customer data. Instead, you're going to use the fits from the general population to clean, transform, and cluster the customer data. In the last step of the project, you will interpret how the general population fits apply to the customer data.\n",
    "\n",
    "- Don't forget when loading in the customers data, that it is semicolon (`;`) delimited.\n",
    "- Apply the same feature wrangling, selection, and engineering steps to the customer demographics using the `clean_data()` function you created earlier. (You can assume that the customer demographics data has similar meaning behind missing data patterns as the general demographics data.)\n",
    "- Use the sklearn objects from the general demographics data, and apply their transformations to the customers data. That is, you should not be using a `.fit()` or `.fit_transform()` method to re-fit the old objects, nor should you be creating new sklearn objects! Carry the data through the feature scaling, PCA, and clustering steps, obtaining cluster assignments for all of the data in the customer demographics data."
   ]
  },
  {
   "cell_type": "code",
   "execution_count": 59,
   "metadata": {},
   "outputs": [],
   "source": [
    "# Load in the customer demographics data.\n",
    "customer_data = pd.read_csv('Udacity_CUSTOMERS_Subset.csv', delimiter=';')"
   ]
  },
  {
   "cell_type": "code",
   "execution_count": 60,
   "metadata": {},
   "outputs": [
    {
     "name": "stdout",
     "output_type": "stream",
     "text": [
      "<class 'pandas.core.frame.DataFrame'>\n",
      "Int64Index: 141590 entries, 0 to 191651\n",
      "Columns: 148 entries, ALTERSKATEGORIE_GROB to GEBAEUDETYP_5.0\n",
      "dtypes: float64(104), int64(24), object(2), uint8(18)\n",
      "memory usage: 148.9+ MB\n"
     ]
    }
   ],
   "source": [
    "# Apply preprocessing, feature transformation, and clustering from the general\n",
    "# demographics onto the customer data, obtaining cluster predictions for the\n",
    "# customer demographics data.\n",
    "customer_data_clean = clean_data(customer_data)\n",
    "customer_data_clean.info()\n"
   ]
  },
  {
   "cell_type": "code",
   "execution_count": 61,
   "metadata": {},
   "outputs": [],
   "source": [
    "#imputing step\n",
    "customer_data_clean = pd.DataFrame(imputer.transform(customer_data_clean), columns = customer_data_clean.columns)"
   ]
  },
  {
   "cell_type": "code",
   "execution_count": 62,
   "metadata": {},
   "outputs": [],
   "source": [
    "# scaling std. scaler step\n",
    "customer_data_clean  = pd.DataFrame(scaler.transform(customer_data_clean ), columns = customer_data_clean.columns)"
   ]
  },
  {
   "cell_type": "code",
   "execution_count": 63,
   "metadata": {},
   "outputs": [
    {
     "data": {
      "text/plain": [
       "(141590, 148)"
      ]
     },
     "execution_count": 63,
     "metadata": {},
     "output_type": "execute_result"
    }
   ],
   "source": [
    "customer_data_clean.shape"
   ]
  },
  {
   "cell_type": "code",
   "execution_count": 64,
   "metadata": {},
   "outputs": [
    {
     "data": {
      "text/html": [
       "<div>\n",
       "<style scoped>\n",
       "    .dataframe tbody tr th:only-of-type {\n",
       "        vertical-align: middle;\n",
       "    }\n",
       "\n",
       "    .dataframe tbody tr th {\n",
       "        vertical-align: top;\n",
       "    }\n",
       "\n",
       "    .dataframe thead th {\n",
       "        text-align: right;\n",
       "    }\n",
       "</style>\n",
       "<table border=\"1\" class=\"dataframe\">\n",
       "  <thead>\n",
       "    <tr style=\"text-align: right;\">\n",
       "      <th></th>\n",
       "      <th>ALTERSKATEGORIE_GROB</th>\n",
       "      <th>ANREDE_KZ</th>\n",
       "      <th>FINANZ_MINIMALIST</th>\n",
       "      <th>FINANZ_SPARER</th>\n",
       "      <th>FINANZ_VORSORGER</th>\n",
       "      <th>FINANZ_ANLEGER</th>\n",
       "      <th>FINANZ_UNAUFFAELLIGER</th>\n",
       "      <th>FINANZ_HAUSBAUER</th>\n",
       "      <th>GREEN_AVANTGARDE</th>\n",
       "      <th>HEALTH_TYP</th>\n",
       "      <th>...</th>\n",
       "      <th>CAMEO_DEUG_2015_5</th>\n",
       "      <th>CAMEO_DEUG_2015_6</th>\n",
       "      <th>CAMEO_DEUG_2015_7</th>\n",
       "      <th>CAMEO_DEUG_2015_8</th>\n",
       "      <th>CAMEO_DEUG_2015_9</th>\n",
       "      <th>PRAEGENDE_JUGENDJAHRE_MOVEMENT</th>\n",
       "      <th>PRAEGENDE_JUGENDJAHRE_GEN_BY_DECADE</th>\n",
       "      <th>CAMEO_INTL_2015_wealth</th>\n",
       "      <th>CAMEO_INTL_2015_lifestage</th>\n",
       "      <th>GEBAEUDETYP_5.0</th>\n",
       "    </tr>\n",
       "  </thead>\n",
       "  <tbody>\n",
       "    <tr>\n",
       "      <th>0</th>\n",
       "      <td>1.184971</td>\n",
       "      <td>-1.043709</td>\n",
       "      <td>1.409202</td>\n",
       "      <td>-1.155407</td>\n",
       "      <td>1.138052</td>\n",
       "      <td>-1.250019</td>\n",
       "      <td>-0.469499</td>\n",
       "      <td>-0.792444</td>\n",
       "      <td>1.884467</td>\n",
       "      <td>-1.625745</td>\n",
       "      <td>...</td>\n",
       "      <td>-0.390058</td>\n",
       "      <td>-0.274916</td>\n",
       "      <td>-0.394382</td>\n",
       "      <td>-0.331663</td>\n",
       "      <td>-0.454017</td>\n",
       "      <td>-0.399356</td>\n",
       "      <td>49.242874</td>\n",
       "      <td>-5.052960</td>\n",
       "      <td>-0.179980</td>\n",
       "      <td>-1.941924</td>\n",
       "    </tr>\n",
       "    <tr>\n",
       "      <th>1</th>\n",
       "      <td>1.184971</td>\n",
       "      <td>0.958121</td>\n",
       "      <td>1.409202</td>\n",
       "      <td>-1.155407</td>\n",
       "      <td>1.138052</td>\n",
       "      <td>-1.250019</td>\n",
       "      <td>0.959974</td>\n",
       "      <td>0.628207</td>\n",
       "      <td>1.884467</td>\n",
       "      <td>-0.270203</td>\n",
       "      <td>...</td>\n",
       "      <td>2.582735</td>\n",
       "      <td>-0.274916</td>\n",
       "      <td>-0.394382</td>\n",
       "      <td>-0.331663</td>\n",
       "      <td>-0.454017</td>\n",
       "      <td>-0.399356</td>\n",
       "      <td>49.242874</td>\n",
       "      <td>-4.913219</td>\n",
       "      <td>0.505358</td>\n",
       "      <td>-1.941924</td>\n",
       "    </tr>\n",
       "    <tr>\n",
       "      <th>2</th>\n",
       "      <td>1.184971</td>\n",
       "      <td>-1.043709</td>\n",
       "      <td>1.409202</td>\n",
       "      <td>-1.155407</td>\n",
       "      <td>1.138052</td>\n",
       "      <td>-0.570914</td>\n",
       "      <td>-1.184235</td>\n",
       "      <td>-0.792444</td>\n",
       "      <td>-0.530654</td>\n",
       "      <td>-0.270203</td>\n",
       "      <td>...</td>\n",
       "      <td>-0.390058</td>\n",
       "      <td>-0.274916</td>\n",
       "      <td>-0.394382</td>\n",
       "      <td>-0.331663</td>\n",
       "      <td>-0.454017</td>\n",
       "      <td>2.522600</td>\n",
       "      <td>39.198971</td>\n",
       "      <td>-4.983090</td>\n",
       "      <td>0.505358</td>\n",
       "      <td>-1.941924</td>\n",
       "    </tr>\n",
       "    <tr>\n",
       "      <th>3</th>\n",
       "      <td>0.201448</td>\n",
       "      <td>-1.043709</td>\n",
       "      <td>-0.042631</td>\n",
       "      <td>-1.155407</td>\n",
       "      <td>0.411813</td>\n",
       "      <td>0.787296</td>\n",
       "      <td>1.674710</td>\n",
       "      <td>-0.792444</td>\n",
       "      <td>-0.530654</td>\n",
       "      <td>1.085338</td>\n",
       "      <td>...</td>\n",
       "      <td>-0.390058</td>\n",
       "      <td>-0.274916</td>\n",
       "      <td>2.554416</td>\n",
       "      <td>-0.331663</td>\n",
       "      <td>-0.454017</td>\n",
       "      <td>2.522600</td>\n",
       "      <td>69.330678</td>\n",
       "      <td>-4.843349</td>\n",
       "      <td>-1.550656</td>\n",
       "      <td>-1.941924</td>\n",
       "    </tr>\n",
       "    <tr>\n",
       "      <th>4</th>\n",
       "      <td>0.201448</td>\n",
       "      <td>-1.043709</td>\n",
       "      <td>1.409202</td>\n",
       "      <td>-1.155407</td>\n",
       "      <td>1.138052</td>\n",
       "      <td>-1.250019</td>\n",
       "      <td>-0.469499</td>\n",
       "      <td>-0.082119</td>\n",
       "      <td>1.884467</td>\n",
       "      <td>1.085338</td>\n",
       "      <td>...</td>\n",
       "      <td>2.582735</td>\n",
       "      <td>-0.274916</td>\n",
       "      <td>-0.394382</td>\n",
       "      <td>-0.331663</td>\n",
       "      <td>-0.454017</td>\n",
       "      <td>-0.399356</td>\n",
       "      <td>49.242874</td>\n",
       "      <td>-4.913219</td>\n",
       "      <td>0.505358</td>\n",
       "      <td>-1.941924</td>\n",
       "    </tr>\n",
       "  </tbody>\n",
       "</table>\n",
       "<p>5 rows × 148 columns</p>\n",
       "</div>"
      ],
      "text/plain": [
       "   ALTERSKATEGORIE_GROB  ANREDE_KZ  FINANZ_MINIMALIST  FINANZ_SPARER  \\\n",
       "0              1.184971  -1.043709           1.409202      -1.155407   \n",
       "1              1.184971   0.958121           1.409202      -1.155407   \n",
       "2              1.184971  -1.043709           1.409202      -1.155407   \n",
       "3              0.201448  -1.043709          -0.042631      -1.155407   \n",
       "4              0.201448  -1.043709           1.409202      -1.155407   \n",
       "\n",
       "   FINANZ_VORSORGER  FINANZ_ANLEGER  FINANZ_UNAUFFAELLIGER  FINANZ_HAUSBAUER  \\\n",
       "0          1.138052       -1.250019              -0.469499         -0.792444   \n",
       "1          1.138052       -1.250019               0.959974          0.628207   \n",
       "2          1.138052       -0.570914              -1.184235         -0.792444   \n",
       "3          0.411813        0.787296               1.674710         -0.792444   \n",
       "4          1.138052       -1.250019              -0.469499         -0.082119   \n",
       "\n",
       "   GREEN_AVANTGARDE  HEALTH_TYP       ...         CAMEO_DEUG_2015_5  \\\n",
       "0          1.884467   -1.625745       ...                 -0.390058   \n",
       "1          1.884467   -0.270203       ...                  2.582735   \n",
       "2         -0.530654   -0.270203       ...                 -0.390058   \n",
       "3         -0.530654    1.085338       ...                 -0.390058   \n",
       "4          1.884467    1.085338       ...                  2.582735   \n",
       "\n",
       "   CAMEO_DEUG_2015_6  CAMEO_DEUG_2015_7  CAMEO_DEUG_2015_8  CAMEO_DEUG_2015_9  \\\n",
       "0          -0.274916          -0.394382          -0.331663          -0.454017   \n",
       "1          -0.274916          -0.394382          -0.331663          -0.454017   \n",
       "2          -0.274916          -0.394382          -0.331663          -0.454017   \n",
       "3          -0.274916           2.554416          -0.331663          -0.454017   \n",
       "4          -0.274916          -0.394382          -0.331663          -0.454017   \n",
       "\n",
       "   PRAEGENDE_JUGENDJAHRE_MOVEMENT  PRAEGENDE_JUGENDJAHRE_GEN_BY_DECADE  \\\n",
       "0                       -0.399356                            49.242874   \n",
       "1                       -0.399356                            49.242874   \n",
       "2                        2.522600                            39.198971   \n",
       "3                        2.522600                            69.330678   \n",
       "4                       -0.399356                            49.242874   \n",
       "\n",
       "   CAMEO_INTL_2015_wealth  CAMEO_INTL_2015_lifestage  GEBAEUDETYP_5.0  \n",
       "0               -5.052960                  -0.179980        -1.941924  \n",
       "1               -4.913219                   0.505358        -1.941924  \n",
       "2               -4.983090                   0.505358        -1.941924  \n",
       "3               -4.843349                  -1.550656        -1.941924  \n",
       "4               -4.913219                   0.505358        -1.941924  \n",
       "\n",
       "[5 rows x 148 columns]"
      ]
     },
     "execution_count": 64,
     "metadata": {},
     "output_type": "execute_result"
    }
   ],
   "source": [
    "customer_data_clean.head()"
   ]
  },
  {
   "cell_type": "code",
   "execution_count": 65,
   "metadata": {},
   "outputs": [],
   "source": [
    "#pca transform\n",
    "customer_pca = pca.transform(customer_data_clean)"
   ]
  },
  {
   "cell_type": "code",
   "execution_count": 66,
   "metadata": {},
   "outputs": [],
   "source": [
    "#clustering\n",
    "kmeans_customer = kmeans.predict(customer_pca)"
   ]
  },
  {
   "cell_type": "code",
   "execution_count": 67,
   "metadata": {},
   "outputs": [
    {
     "data": {
      "text/plain": [
       "array([12,  6, 15, ..., 12,  8, 17], dtype=int32)"
      ]
     },
     "execution_count": 67,
     "metadata": {},
     "output_type": "execute_result"
    }
   ],
   "source": [
    "kmeans_customer"
   ]
  },
  {
   "cell_type": "markdown",
   "metadata": {},
   "source": [
    "### Step 3.3: Compare Customer Data to Demographics Data\n",
    "\n",
    "At this point, you have clustered data based on demographics of the general population of Germany, and seen how the customer data for a mail-order sales company maps onto those demographic clusters. In this final substep, you will compare the two cluster distributions to see where the strongest customer base for the company is.\n",
    "\n",
    "Consider the proportion of persons in each cluster for the general population, and the proportions for the customers. If we think the company's customer base to be universal, then the cluster assignment proportions should be fairly similar between the two. If there are only particular segments of the population that are interested in the company's products, then we should see a mismatch from one to the other. If there is a higher proportion of persons in a cluster for the customer data compared to the general population (e.g. 5% of persons are assigned to a cluster for the general population, but 15% of the customer data is closest to that cluster's centroid) then that suggests the people in that cluster to be a target audience for the company. On the other hand, the proportion of the data in a cluster being larger in the general population than the customer data (e.g. only 2% of customers closest to a population centroid that captures 6% of the data) suggests that group of persons to be outside of the target demographics.\n",
    "\n",
    "Take a look at the following points in this step:\n",
    "\n",
    "- Compute the proportion of data points in each cluster for the general population and the customer data. Visualizations will be useful here: both for the individual dataset proportions, but also to visualize the ratios in cluster representation between groups. Seaborn's [`countplot()`](https://seaborn.pydata.org/generated/seaborn.countplot.html) or [`barplot()`](https://seaborn.pydata.org/generated/seaborn.barplot.html) function could be handy.\n",
    "  - Recall the analysis you performed in step 1.1.3 of the project, where you separated out certain data points from the dataset if they had more than a specified threshold of missing values. If you found that this group was qualitatively different from the main bulk of the data, you should treat this as an additional data cluster in this analysis. Make sure that you account for the number of data points in this subset, for both the general population and customer datasets, when making your computations!\n",
    "- Which cluster or clusters are overrepresented in the customer dataset compared to the general population? Select at least one such cluster and infer what kind of people might be represented by that cluster. Use the principal component interpretations from step 2.3 or look at additional components to help you make this inference. Alternatively, you can use the `.inverse_transform()` method of the PCA and StandardScaler objects to transform centroids back to the original data space and interpret the retrieved values directly.\n",
    "- Perform a similar investigation for the underrepresented clusters. Which cluster or clusters are underrepresented in the customer dataset compared to the general population, and what kinds of people are typified by these clusters?"
   ]
  },
  {
   "cell_type": "code",
   "execution_count": 68,
   "metadata": {},
   "outputs": [
    {
     "data": {
      "image/png": "[encoded data removed]",
      "text/plain": [
       "<matplotlib.figure.Figure at 0x7fd30007f160>"
      ]
     },
     "metadata": {
      "needs_background": "light"
     },
     "output_type": "display_data"
    }
   ],
   "source": [
    "# Compare the proportion of data in each cluster for the customer data to the\n",
    "# proportion of data in each cluster for the general population.\n",
    "fig = plt.figure()\n",
    "ax = fig.add_axes([0,0,2,1], title = 'General Population and Customer distribution plot')\n",
    "sns.distplot(kmeans_pop, label = 'population', ax = ax)\n",
    "sns.distplot(kmeans_customer, label = 'customer', ax = ax)\n",
    "plt.xticks(np.arange(0,25,1))\n",
    "plt.yticks (np.arange(0,0.35,0.02))\n",
    "plt.xlabel('kmeans cluster')\n",
    "plt.ylabel('proportion')\n",
    "ax.legend();"
   ]
  },
  {
   "cell_type": "code",
   "execution_count": 69,
   "metadata": {},
   "outputs": [
    {
     "data": {
      "text/plain": [
       "Text(0.5,1,'Customer kmeans countplot')"
      ]
     },
     "execution_count": 69,
     "metadata": {},
     "output_type": "execute_result"
    },
    {
     "data": {
      "image/png": "[encoded data removed]",
      "text/plain": [
       "<matplotlib.figure.Figure at 0x7fd3001ce208>"
      ]
     },
     "metadata": {
      "needs_background": "light"
     },
     "output_type": "display_data"
    }
   ],
   "source": [
    "# customer data kmeans count plot\n",
    "plt.figure(figsize=(16,10))\n",
    "sns.countplot(kmeans_customer)\n",
    "plt.title('Customer kmeans countplot')"
   ]
  },
  {
   "cell_type": "code",
   "execution_count": 70,
   "metadata": {},
   "outputs": [
    {
     "data": {
      "text/plain": [
       "Text(0.5,1,'Popuation kmeans countplot')"
      ]
     },
     "execution_count": 70,
     "metadata": {},
     "output_type": "execute_result"
    },
    {
     "data": {
      "image/png": "[encoded data removed]",
      "text/plain": [
       "<matplotlib.figure.Figure at 0x7fd3001650f0>"
      ]
     },
     "metadata": {
      "needs_background": "light"
     },
     "output_type": "display_data"
    }
   ],
   "source": [
    "# general population data kmeans count plot\n",
    "plt.figure(figsize=(16,10))\n",
    "sns.countplot(kmeans_pop)\n",
    "plt.title('Popuation kmeans countplot')"
   ]
  },
  {
   "cell_type": "code",
   "execution_count": 71,
   "metadata": {},
   "outputs": [
    {
     "data": {
      "text/html": [
       "<div>\n",
       "<style scoped>\n",
       "    .dataframe tbody tr th:only-of-type {\n",
       "        vertical-align: middle;\n",
       "    }\n",
       "\n",
       "    .dataframe tbody tr th {\n",
       "        vertical-align: top;\n",
       "    }\n",
       "\n",
       "    .dataframe thead th {\n",
       "        text-align: right;\n",
       "    }\n",
       "</style>\n",
       "<table border=\"1\" class=\"dataframe\">\n",
       "  <thead>\n",
       "    <tr style=\"text-align: right;\">\n",
       "      <th></th>\n",
       "      <th>DiffPerc</th>\n",
       "      <th>CustPerc</th>\n",
       "      <th>PopPerc</th>\n",
       "    </tr>\n",
       "    <tr>\n",
       "      <th>Cluster</th>\n",
       "      <th></th>\n",
       "      <th></th>\n",
       "      <th></th>\n",
       "    </tr>\n",
       "  </thead>\n",
       "  <tbody>\n",
       "    <tr>\n",
       "      <th>12</th>\n",
       "      <td>31.189430</td>\n",
       "      <td>35.474963</td>\n",
       "      <td>4.285533</td>\n",
       "    </tr>\n",
       "    <tr>\n",
       "      <th>5</th>\n",
       "      <td>10.500990</td>\n",
       "      <td>13.735433</td>\n",
       "      <td>3.234443</td>\n",
       "    </tr>\n",
       "    <tr>\n",
       "      <th>6</th>\n",
       "      <td>5.262171</td>\n",
       "      <td>9.819196</td>\n",
       "      <td>4.557025</td>\n",
       "    </tr>\n",
       "    <tr>\n",
       "      <th>1</th>\n",
       "      <td>3.646449</td>\n",
       "      <td>8.785225</td>\n",
       "      <td>5.138776</td>\n",
       "    </tr>\n",
       "    <tr>\n",
       "      <th>11</th>\n",
       "      <td>3.136414</td>\n",
       "      <td>5.962992</td>\n",
       "      <td>2.826578</td>\n",
       "    </tr>\n",
       "    <tr>\n",
       "      <th>16</th>\n",
       "      <td>1.410483</td>\n",
       "      <td>1.817219</td>\n",
       "      <td>0.406736</td>\n",
       "    </tr>\n",
       "    <tr>\n",
       "      <th>4</th>\n",
       "      <td>1.310151</td>\n",
       "      <td>4.881701</td>\n",
       "      <td>3.571550</td>\n",
       "    </tr>\n",
       "    <tr>\n",
       "      <th>8</th>\n",
       "      <td>0.992065</td>\n",
       "      <td>3.990395</td>\n",
       "      <td>2.998330</td>\n",
       "    </tr>\n",
       "    <tr>\n",
       "      <th>22</th>\n",
       "      <td>0.429524</td>\n",
       "      <td>3.298256</td>\n",
       "      <td>2.868732</td>\n",
       "    </tr>\n",
       "    <tr>\n",
       "      <th>24</th>\n",
       "      <td>0.166712</td>\n",
       "      <td>3.801116</td>\n",
       "      <td>3.634404</td>\n",
       "    </tr>\n",
       "    <tr>\n",
       "      <th>17</th>\n",
       "      <td>-1.049976</td>\n",
       "      <td>3.515079</td>\n",
       "      <td>4.565055</td>\n",
       "    </tr>\n",
       "    <tr>\n",
       "      <th>18</th>\n",
       "      <td>-2.133324</td>\n",
       "      <td>0.061445</td>\n",
       "      <td>2.194769</td>\n",
       "    </tr>\n",
       "    <tr>\n",
       "      <th>19</th>\n",
       "      <td>-2.795307</td>\n",
       "      <td>0.375026</td>\n",
       "      <td>3.170334</td>\n",
       "    </tr>\n",
       "    <tr>\n",
       "      <th>0</th>\n",
       "      <td>-3.018909</td>\n",
       "      <td>0.291687</td>\n",
       "      <td>3.310596</td>\n",
       "    </tr>\n",
       "    <tr>\n",
       "      <th>15</th>\n",
       "      <td>-3.153984</td>\n",
       "      <td>0.880006</td>\n",
       "      <td>4.033989</td>\n",
       "    </tr>\n",
       "    <tr>\n",
       "      <th>14</th>\n",
       "      <td>-3.364663</td>\n",
       "      <td>1.803093</td>\n",
       "      <td>5.167757</td>\n",
       "    </tr>\n",
       "    <tr>\n",
       "      <th>10</th>\n",
       "      <td>-3.484291</td>\n",
       "      <td>0.002825</td>\n",
       "      <td>3.487116</td>\n",
       "    </tr>\n",
       "    <tr>\n",
       "      <th>23</th>\n",
       "      <td>-4.018075</td>\n",
       "      <td>0.015538</td>\n",
       "      <td>4.033613</td>\n",
       "    </tr>\n",
       "    <tr>\n",
       "      <th>13</th>\n",
       "      <td>-4.210366</td>\n",
       "      <td>0.693552</td>\n",
       "      <td>4.903918</td>\n",
       "    </tr>\n",
       "    <tr>\n",
       "      <th>2</th>\n",
       "      <td>-4.281105</td>\n",
       "      <td>0.007063</td>\n",
       "      <td>4.288168</td>\n",
       "    </tr>\n",
       "    <tr>\n",
       "      <th>21</th>\n",
       "      <td>-4.414446</td>\n",
       "      <td>0.073452</td>\n",
       "      <td>4.487898</td>\n",
       "    </tr>\n",
       "    <tr>\n",
       "      <th>20</th>\n",
       "      <td>-4.761458</td>\n",
       "      <td>0.021894</td>\n",
       "      <td>4.783352</td>\n",
       "    </tr>\n",
       "    <tr>\n",
       "      <th>3</th>\n",
       "      <td>-5.222598</td>\n",
       "      <td>0.236599</td>\n",
       "      <td>5.459197</td>\n",
       "    </tr>\n",
       "    <tr>\n",
       "      <th>7</th>\n",
       "      <td>-5.782081</td>\n",
       "      <td>0.353839</td>\n",
       "      <td>6.135919</td>\n",
       "    </tr>\n",
       "    <tr>\n",
       "      <th>9</th>\n",
       "      <td>-6.353806</td>\n",
       "      <td>0.102408</td>\n",
       "      <td>6.456214</td>\n",
       "    </tr>\n",
       "  </tbody>\n",
       "</table>\n",
       "</div>"
      ],
      "text/plain": [
       "          DiffPerc   CustPerc   PopPerc\n",
       "Cluster                                \n",
       "12       31.189430  35.474963  4.285533\n",
       "5        10.500990  13.735433  3.234443\n",
       "6         5.262171   9.819196  4.557025\n",
       "1         3.646449   8.785225  5.138776\n",
       "11        3.136414   5.962992  2.826578\n",
       "16        1.410483   1.817219  0.406736\n",
       "4         1.310151   4.881701  3.571550\n",
       "8         0.992065   3.990395  2.998330\n",
       "22        0.429524   3.298256  2.868732\n",
       "24        0.166712   3.801116  3.634404\n",
       "17       -1.049976   3.515079  4.565055\n",
       "18       -2.133324   0.061445  2.194769\n",
       "19       -2.795307   0.375026  3.170334\n",
       "0        -3.018909   0.291687  3.310596\n",
       "15       -3.153984   0.880006  4.033989\n",
       "14       -3.364663   1.803093  5.167757\n",
       "10       -3.484291   0.002825  3.487116\n",
       "23       -4.018075   0.015538  4.033613\n",
       "13       -4.210366   0.693552  4.903918\n",
       "2        -4.281105   0.007063  4.288168\n",
       "21       -4.414446   0.073452  4.487898\n",
       "20       -4.761458   0.021894  4.783352\n",
       "3        -5.222598   0.236599  5.459197\n",
       "7        -5.782081   0.353839  6.135919\n",
       "9        -6.353806   0.102408  6.456214"
      ]
     },
     "execution_count": 71,
     "metadata": {},
     "output_type": "execute_result"
    }
   ],
   "source": [
    "cust_df = pd.DataFrame(kmeans_customer,columns=['Cluster']).reset_index().groupby('Cluster').count()/len(kmeans_customer)*100\n",
    "pop_df = pd.DataFrame(kmeans_pop,columns=['Cluster']).reset_index().groupby('Cluster').count()/len(kmeans_pop)*100\n",
    "diff = (cust_df-pop_df)\n",
    "diff.rename_axis({'index':'DiffPerc'}, axis=1, inplace=True)\n",
    "cust_df.rename_axis({'index':'CustPerc'}, axis=1, inplace=True)\n",
    "pop_df.rename_axis({'index':'PopPerc'}, axis=1, inplace=True)\n",
    "diff = diff.join(cust_df).join(pop_df).sort_values('DiffPerc',ascending=False)\n",
    "diff.fillna(0, inplace=True)\n",
    "diff"
   ]
  },
  {
   "cell_type": "code",
   "execution_count": 73,
   "metadata": {},
   "outputs": [
    {
     "data": {
      "text/html": [
       "<div>\n",
       "<style scoped>\n",
       "    .dataframe tbody tr th:only-of-type {\n",
       "        vertical-align: middle;\n",
       "    }\n",
       "\n",
       "    .dataframe tbody tr th {\n",
       "        vertical-align: top;\n",
       "    }\n",
       "\n",
       "    .dataframe thead th {\n",
       "        text-align: right;\n",
       "    }\n",
       "</style>\n",
       "<table border=\"1\" class=\"dataframe\">\n",
       "  <thead>\n",
       "    <tr style=\"text-align: right;\">\n",
       "      <th></th>\n",
       "      <th>ALTERSKATEGORIE_GROB</th>\n",
       "      <th>ANREDE_KZ</th>\n",
       "      <th>FINANZ_MINIMALIST</th>\n",
       "      <th>FINANZ_SPARER</th>\n",
       "      <th>FINANZ_VORSORGER</th>\n",
       "      <th>FINANZ_ANLEGER</th>\n",
       "      <th>FINANZ_UNAUFFAELLIGER</th>\n",
       "      <th>FINANZ_HAUSBAUER</th>\n",
       "      <th>GREEN_AVANTGARDE</th>\n",
       "      <th>HEALTH_TYP</th>\n",
       "      <th>...</th>\n",
       "      <th>CAMEO_DEUG_2015_4</th>\n",
       "      <th>CAMEO_DEUG_2015_5</th>\n",
       "      <th>CAMEO_DEUG_2015_6</th>\n",
       "      <th>CAMEO_DEUG_2015_7</th>\n",
       "      <th>CAMEO_DEUG_2015_8</th>\n",
       "      <th>CAMEO_DEUG_2015_9</th>\n",
       "      <th>PRAEGENDE_JUGENDJAHRE_MOVEMENT</th>\n",
       "      <th>PRAEGENDE_JUGENDJAHRE_GEN_BY_DECADE</th>\n",
       "      <th>CAMEO_INTL_2015_wealth</th>\n",
       "      <th>CAMEO_INTL_2015_lifestage</th>\n",
       "    </tr>\n",
       "  </thead>\n",
       "  <tbody>\n",
       "    <tr>\n",
       "      <th>0</th>\n",
       "      <td>2.321369</td>\n",
       "      <td>1.721668</td>\n",
       "      <td>2.432695</td>\n",
       "      <td>3.570639</td>\n",
       "      <td>2.762696</td>\n",
       "      <td>3.847186</td>\n",
       "      <td>3.311412</td>\n",
       "      <td>2.936063</td>\n",
       "      <td>0.184588</td>\n",
       "      <td>2.236171</td>\n",
       "      <td>...</td>\n",
       "      <td>0.153578</td>\n",
       "      <td>0.099367</td>\n",
       "      <td>0.128372</td>\n",
       "      <td>0.091656</td>\n",
       "      <td>0.140787</td>\n",
       "      <td>0.124805</td>\n",
       "      <td>0.908829</td>\n",
       "      <td>84.022810</td>\n",
       "      <td>3.180549</td>\n",
       "      <td>2.829334</td>\n",
       "    </tr>\n",
       "    <tr>\n",
       "      <th>1</th>\n",
       "      <td>3.982127</td>\n",
       "      <td>1.917544</td>\n",
       "      <td>2.595821</td>\n",
       "      <td>1.440669</td>\n",
       "      <td>4.695895</td>\n",
       "      <td>1.765581</td>\n",
       "      <td>1.386264</td>\n",
       "      <td>4.581539</td>\n",
       "      <td>-0.012025</td>\n",
       "      <td>1.797127</td>\n",
       "      <td>...</td>\n",
       "      <td>-0.010073</td>\n",
       "      <td>-0.017541</td>\n",
       "      <td>0.201351</td>\n",
       "      <td>0.159530</td>\n",
       "      <td>0.373254</td>\n",
       "      <td>0.206091</td>\n",
       "      <td>1.185971</td>\n",
       "      <td>57.622466</td>\n",
       "      <td>4.375900</td>\n",
       "      <td>2.824969</td>\n",
       "    </tr>\n",
       "    <tr>\n",
       "      <th>2</th>\n",
       "      <td>2.618262</td>\n",
       "      <td>1.517973</td>\n",
       "      <td>3.732440</td>\n",
       "      <td>3.042753</td>\n",
       "      <td>3.040806</td>\n",
       "      <td>3.364051</td>\n",
       "      <td>3.197570</td>\n",
       "      <td>1.624937</td>\n",
       "      <td>0.392855</td>\n",
       "      <td>2.270666</td>\n",
       "      <td>...</td>\n",
       "      <td>0.244622</td>\n",
       "      <td>0.096887</td>\n",
       "      <td>0.088307</td>\n",
       "      <td>0.035321</td>\n",
       "      <td>0.061363</td>\n",
       "      <td>0.036015</td>\n",
       "      <td>0.619252</td>\n",
       "      <td>81.857815</td>\n",
       "      <td>2.370135</td>\n",
       "      <td>3.135180</td>\n",
       "    </tr>\n",
       "    <tr>\n",
       "      <th>3</th>\n",
       "      <td>1.803819</td>\n",
       "      <td>1.983548</td>\n",
       "      <td>1.121369</td>\n",
       "      <td>4.564144</td>\n",
       "      <td>2.231903</td>\n",
       "      <td>4.598864</td>\n",
       "      <td>4.103308</td>\n",
       "      <td>4.158754</td>\n",
       "      <td>0.026084</td>\n",
       "      <td>2.228434</td>\n",
       "      <td>...</td>\n",
       "      <td>0.130808</td>\n",
       "      <td>0.054289</td>\n",
       "      <td>0.190841</td>\n",
       "      <td>0.106314</td>\n",
       "      <td>0.184589</td>\n",
       "      <td>0.146370</td>\n",
       "      <td>1.008154</td>\n",
       "      <td>86.639050</td>\n",
       "      <td>3.516554</td>\n",
       "      <td>2.791191</td>\n",
       "    </tr>\n",
       "    <tr>\n",
       "      <th>4</th>\n",
       "      <td>2.932194</td>\n",
       "      <td>1.421813</td>\n",
       "      <td>3.852642</td>\n",
       "      <td>2.263305</td>\n",
       "      <td>3.602871</td>\n",
       "      <td>2.619539</td>\n",
       "      <td>2.437503</td>\n",
       "      <td>2.482112</td>\n",
       "      <td>0.392549</td>\n",
       "      <td>2.186873</td>\n",
       "      <td>...</td>\n",
       "      <td>0.216103</td>\n",
       "      <td>0.057333</td>\n",
       "      <td>0.156191</td>\n",
       "      <td>0.113816</td>\n",
       "      <td>0.042364</td>\n",
       "      <td>0.025322</td>\n",
       "      <td>1.108066</td>\n",
       "      <td>71.374581</td>\n",
       "      <td>2.554010</td>\n",
       "      <td>3.187994</td>\n",
       "    </tr>\n",
       "    <tr>\n",
       "      <th>5</th>\n",
       "      <td>3.701736</td>\n",
       "      <td>1.890294</td>\n",
       "      <td>4.328326</td>\n",
       "      <td>1.312955</td>\n",
       "      <td>4.483863</td>\n",
       "      <td>2.339366</td>\n",
       "      <td>1.740863</td>\n",
       "      <td>2.602555</td>\n",
       "      <td>-0.019280</td>\n",
       "      <td>1.979540</td>\n",
       "      <td>...</td>\n",
       "      <td>0.238835</td>\n",
       "      <td>0.076479</td>\n",
       "      <td>0.139211</td>\n",
       "      <td>0.099826</td>\n",
       "      <td>0.045461</td>\n",
       "      <td>0.009623</td>\n",
       "      <td>1.264492</td>\n",
       "      <td>60.642029</td>\n",
       "      <td>2.520286</td>\n",
       "      <td>3.372966</td>\n",
       "    </tr>\n",
       "    <tr>\n",
       "      <th>6</th>\n",
       "      <td>3.563798</td>\n",
       "      <td>1.941281</td>\n",
       "      <td>4.395337</td>\n",
       "      <td>1.322742</td>\n",
       "      <td>4.477865</td>\n",
       "      <td>1.863410</td>\n",
       "      <td>1.907809</td>\n",
       "      <td>2.479680</td>\n",
       "      <td>0.942719</td>\n",
       "      <td>2.062662</td>\n",
       "      <td>...</td>\n",
       "      <td>0.177952</td>\n",
       "      <td>0.067201</td>\n",
       "      <td>0.088395</td>\n",
       "      <td>0.015315</td>\n",
       "      <td>0.042270</td>\n",
       "      <td>0.027117</td>\n",
       "      <td>1.204238</td>\n",
       "      <td>62.143977</td>\n",
       "      <td>2.004532</td>\n",
       "      <td>3.667052</td>\n",
       "    </tr>\n",
       "    <tr>\n",
       "      <th>7</th>\n",
       "      <td>1.704776</td>\n",
       "      <td>1.993556</td>\n",
       "      <td>1.015327</td>\n",
       "      <td>4.481225</td>\n",
       "      <td>2.109841</td>\n",
       "      <td>4.293491</td>\n",
       "      <td>3.770936</td>\n",
       "      <td>4.466163</td>\n",
       "      <td>0.037514</td>\n",
       "      <td>2.171826</td>\n",
       "      <td>...</td>\n",
       "      <td>0.004508</td>\n",
       "      <td>0.066462</td>\n",
       "      <td>0.069290</td>\n",
       "      <td>0.135098</td>\n",
       "      <td>0.340078</td>\n",
       "      <td>0.397917</td>\n",
       "      <td>0.996525</td>\n",
       "      <td>85.915784</td>\n",
       "      <td>4.597186</td>\n",
       "      <td>1.777342</td>\n",
       "    </tr>\n",
       "    <tr>\n",
       "      <th>8</th>\n",
       "      <td>3.505660</td>\n",
       "      <td>1.937865</td>\n",
       "      <td>3.067243</td>\n",
       "      <td>1.473876</td>\n",
       "      <td>4.571395</td>\n",
       "      <td>1.623246</td>\n",
       "      <td>1.955072</td>\n",
       "      <td>4.180806</td>\n",
       "      <td>0.378937</td>\n",
       "      <td>2.152208</td>\n",
       "      <td>...</td>\n",
       "      <td>0.125888</td>\n",
       "      <td>0.142901</td>\n",
       "      <td>0.195722</td>\n",
       "      <td>0.144215</td>\n",
       "      <td>0.139460</td>\n",
       "      <td>0.053473</td>\n",
       "      <td>1.135275</td>\n",
       "      <td>62.159007</td>\n",
       "      <td>3.247210</td>\n",
       "      <td>3.264528</td>\n",
       "    </tr>\n",
       "    <tr>\n",
       "      <th>9</th>\n",
       "      <td>1.844267</td>\n",
       "      <td>0.957318</td>\n",
       "      <td>1.723243</td>\n",
       "      <td>4.596814</td>\n",
       "      <td>1.899091</td>\n",
       "      <td>3.754814</td>\n",
       "      <td>3.979492</td>\n",
       "      <td>3.717228</td>\n",
       "      <td>0.067717</td>\n",
       "      <td>2.335150</td>\n",
       "      <td>...</td>\n",
       "      <td>0.030910</td>\n",
       "      <td>0.043743</td>\n",
       "      <td>0.097619</td>\n",
       "      <td>0.127726</td>\n",
       "      <td>0.309218</td>\n",
       "      <td>0.349655</td>\n",
       "      <td>0.907991</td>\n",
       "      <td>88.135335</td>\n",
       "      <td>4.395626</td>\n",
       "      <td>2.003851</td>\n",
       "    </tr>\n",
       "    <tr>\n",
       "      <th>10</th>\n",
       "      <td>2.383815</td>\n",
       "      <td>1.358052</td>\n",
       "      <td>4.164856</td>\n",
       "      <td>3.202988</td>\n",
       "      <td>2.532077</td>\n",
       "      <td>3.010264</td>\n",
       "      <td>3.577734</td>\n",
       "      <td>1.035619</td>\n",
       "      <td>0.989642</td>\n",
       "      <td>2.386365</td>\n",
       "      <td>...</td>\n",
       "      <td>0.159117</td>\n",
       "      <td>0.044130</td>\n",
       "      <td>0.148389</td>\n",
       "      <td>0.053764</td>\n",
       "      <td>0.062063</td>\n",
       "      <td>-0.004495</td>\n",
       "      <td>0.491125</td>\n",
       "      <td>82.581999</td>\n",
       "      <td>2.191866</td>\n",
       "      <td>3.317014</td>\n",
       "    </tr>\n",
       "    <tr>\n",
       "      <th>11</th>\n",
       "      <td>3.329926</td>\n",
       "      <td>1.395607</td>\n",
       "      <td>4.568675</td>\n",
       "      <td>1.597193</td>\n",
       "      <td>4.275955</td>\n",
       "      <td>2.292790</td>\n",
       "      <td>1.856676</td>\n",
       "      <td>2.265968</td>\n",
       "      <td>0.024410</td>\n",
       "      <td>2.172081</td>\n",
       "      <td>...</td>\n",
       "      <td>0.209035</td>\n",
       "      <td>0.082283</td>\n",
       "      <td>0.134383</td>\n",
       "      <td>0.085972</td>\n",
       "      <td>0.037037</td>\n",
       "      <td>-0.000733</td>\n",
       "      <td>1.202797</td>\n",
       "      <td>64.234727</td>\n",
       "      <td>2.392407</td>\n",
       "      <td>3.391492</td>\n",
       "    </tr>\n",
       "    <tr>\n",
       "      <th>12</th>\n",
       "      <td>3.457727</td>\n",
       "      <td>1.063438</td>\n",
       "      <td>4.931264</td>\n",
       "      <td>1.271762</td>\n",
       "      <td>4.632309</td>\n",
       "      <td>1.149842</td>\n",
       "      <td>1.871747</td>\n",
       "      <td>2.252154</td>\n",
       "      <td>0.966716</td>\n",
       "      <td>1.859450</td>\n",
       "      <td>...</td>\n",
       "      <td>0.177071</td>\n",
       "      <td>0.065110</td>\n",
       "      <td>0.101242</td>\n",
       "      <td>0.007636</td>\n",
       "      <td>0.034407</td>\n",
       "      <td>0.041206</td>\n",
       "      <td>1.297910</td>\n",
       "      <td>60.873999</td>\n",
       "      <td>2.019480</td>\n",
       "      <td>3.625797</td>\n",
       "    </tr>\n",
       "    <tr>\n",
       "      <th>13</th>\n",
       "      <td>3.461012</td>\n",
       "      <td>1.739771</td>\n",
       "      <td>2.951985</td>\n",
       "      <td>1.869900</td>\n",
       "      <td>4.158193</td>\n",
       "      <td>2.949962</td>\n",
       "      <td>1.648752</td>\n",
       "      <td>3.971537</td>\n",
       "      <td>0.079529</td>\n",
       "      <td>2.067537</td>\n",
       "      <td>...</td>\n",
       "      <td>0.161419</td>\n",
       "      <td>0.082510</td>\n",
       "      <td>0.199384</td>\n",
       "      <td>0.104532</td>\n",
       "      <td>0.204868</td>\n",
       "      <td>0.047784</td>\n",
       "      <td>0.999036</td>\n",
       "      <td>64.426198</td>\n",
       "      <td>3.354705</td>\n",
       "      <td>3.110484</td>\n",
       "    </tr>\n",
       "    <tr>\n",
       "      <th>14</th>\n",
       "      <td>3.194197</td>\n",
       "      <td>1.049037</td>\n",
       "      <td>3.117851</td>\n",
       "      <td>2.099391</td>\n",
       "      <td>4.176363</td>\n",
       "      <td>1.704890</td>\n",
       "      <td>1.794419</td>\n",
       "      <td>3.446511</td>\n",
       "      <td>0.004653</td>\n",
       "      <td>2.400729</td>\n",
       "      <td>...</td>\n",
       "      <td>0.036045</td>\n",
       "      <td>0.036660</td>\n",
       "      <td>0.139308</td>\n",
       "      <td>0.133590</td>\n",
       "      <td>0.320933</td>\n",
       "      <td>0.269917</td>\n",
       "      <td>1.000386</td>\n",
       "      <td>65.940735</td>\n",
       "      <td>4.283477</td>\n",
       "      <td>2.318422</td>\n",
       "    </tr>\n",
       "    <tr>\n",
       "      <th>15</th>\n",
       "      <td>3.107061</td>\n",
       "      <td>1.143333</td>\n",
       "      <td>4.642410</td>\n",
       "      <td>1.878435</td>\n",
       "      <td>3.984828</td>\n",
       "      <td>2.319895</td>\n",
       "      <td>2.008520</td>\n",
       "      <td>1.900335</td>\n",
       "      <td>0.001234</td>\n",
       "      <td>2.310861</td>\n",
       "      <td>...</td>\n",
       "      <td>0.226008</td>\n",
       "      <td>0.082624</td>\n",
       "      <td>0.151249</td>\n",
       "      <td>0.080729</td>\n",
       "      <td>0.046647</td>\n",
       "      <td>0.018185</td>\n",
       "      <td>1.052568</td>\n",
       "      <td>67.290214</td>\n",
       "      <td>2.520020</td>\n",
       "      <td>3.248347</td>\n",
       "    </tr>\n",
       "    <tr>\n",
       "      <th>16</th>\n",
       "      <td>3.063177</td>\n",
       "      <td>1.430348</td>\n",
       "      <td>3.505462</td>\n",
       "      <td>2.349194</td>\n",
       "      <td>3.754144</td>\n",
       "      <td>2.481329</td>\n",
       "      <td>2.493840</td>\n",
       "      <td>2.997213</td>\n",
       "      <td>0.679381</td>\n",
       "      <td>2.196182</td>\n",
       "      <td>...</td>\n",
       "      <td>0.126248</td>\n",
       "      <td>0.256789</td>\n",
       "      <td>-0.015140</td>\n",
       "      <td>0.099786</td>\n",
       "      <td>0.194404</td>\n",
       "      <td>0.053613</td>\n",
       "      <td>0.541005</td>\n",
       "      <td>67.661661</td>\n",
       "      <td>2.737332</td>\n",
       "      <td>3.524941</td>\n",
       "    </tr>\n",
       "    <tr>\n",
       "      <th>17</th>\n",
       "      <td>3.050116</td>\n",
       "      <td>1.415188</td>\n",
       "      <td>4.461299</td>\n",
       "      <td>2.171301</td>\n",
       "      <td>3.723487</td>\n",
       "      <td>2.869754</td>\n",
       "      <td>2.208815</td>\n",
       "      <td>1.759995</td>\n",
       "      <td>0.019636</td>\n",
       "      <td>2.170752</td>\n",
       "      <td>...</td>\n",
       "      <td>0.268743</td>\n",
       "      <td>0.088858</td>\n",
       "      <td>0.111596</td>\n",
       "      <td>0.065902</td>\n",
       "      <td>0.033626</td>\n",
       "      <td>0.015023</td>\n",
       "      <td>1.038376</td>\n",
       "      <td>71.700770</td>\n",
       "      <td>2.373967</td>\n",
       "      <td>3.225207</td>\n",
       "    </tr>\n",
       "    <tr>\n",
       "      <th>18</th>\n",
       "      <td>2.484662</td>\n",
       "      <td>1.441245</td>\n",
       "      <td>3.936467</td>\n",
       "      <td>2.780964</td>\n",
       "      <td>2.838958</td>\n",
       "      <td>2.876313</td>\n",
       "      <td>3.310215</td>\n",
       "      <td>1.374248</td>\n",
       "      <td>0.115228</td>\n",
       "      <td>2.288221</td>\n",
       "      <td>...</td>\n",
       "      <td>0.211365</td>\n",
       "      <td>0.140048</td>\n",
       "      <td>0.141448</td>\n",
       "      <td>0.095477</td>\n",
       "      <td>0.065261</td>\n",
       "      <td>0.024574</td>\n",
       "      <td>0.741139</td>\n",
       "      <td>78.076546</td>\n",
       "      <td>2.736606</td>\n",
       "      <td>3.041744</td>\n",
       "    </tr>\n",
       "    <tr>\n",
       "      <th>19</th>\n",
       "      <td>2.999055</td>\n",
       "      <td>1.249149</td>\n",
       "      <td>2.687558</td>\n",
       "      <td>2.357329</td>\n",
       "      <td>3.752062</td>\n",
       "      <td>1.982760</td>\n",
       "      <td>1.619007</td>\n",
       "      <td>3.839239</td>\n",
       "      <td>0.020308</td>\n",
       "      <td>2.391116</td>\n",
       "      <td>...</td>\n",
       "      <td>-0.002154</td>\n",
       "      <td>0.054863</td>\n",
       "      <td>0.043951</td>\n",
       "      <td>0.073747</td>\n",
       "      <td>0.270411</td>\n",
       "      <td>0.561044</td>\n",
       "      <td>0.858964</td>\n",
       "      <td>68.737800</td>\n",
       "      <td>4.691685</td>\n",
       "      <td>1.949971</td>\n",
       "    </tr>\n",
       "    <tr>\n",
       "      <th>20</th>\n",
       "      <td>3.012730</td>\n",
       "      <td>1.967293</td>\n",
       "      <td>2.194371</td>\n",
       "      <td>2.722642</td>\n",
       "      <td>3.614407</td>\n",
       "      <td>2.877846</td>\n",
       "      <td>2.248225</td>\n",
       "      <td>3.775712</td>\n",
       "      <td>0.013410</td>\n",
       "      <td>2.444269</td>\n",
       "      <td>...</td>\n",
       "      <td>0.039638</td>\n",
       "      <td>0.055920</td>\n",
       "      <td>0.120948</td>\n",
       "      <td>0.162766</td>\n",
       "      <td>0.318921</td>\n",
       "      <td>0.226008</td>\n",
       "      <td>0.932691</td>\n",
       "      <td>71.943942</td>\n",
       "      <td>4.170589</td>\n",
       "      <td>2.341982</td>\n",
       "    </tr>\n",
       "    <tr>\n",
       "      <th>21</th>\n",
       "      <td>1.744705</td>\n",
       "      <td>1.984911</td>\n",
       "      <td>1.965586</td>\n",
       "      <td>4.104344</td>\n",
       "      <td>2.155900</td>\n",
       "      <td>4.608480</td>\n",
       "      <td>4.165088</td>\n",
       "      <td>3.101976</td>\n",
       "      <td>0.196904</td>\n",
       "      <td>2.267036</td>\n",
       "      <td>...</td>\n",
       "      <td>0.208353</td>\n",
       "      <td>0.083441</td>\n",
       "      <td>0.125880</td>\n",
       "      <td>0.076906</td>\n",
       "      <td>0.031688</td>\n",
       "      <td>0.030682</td>\n",
       "      <td>0.652953</td>\n",
       "      <td>86.888771</td>\n",
       "      <td>2.391030</td>\n",
       "      <td>3.206417</td>\n",
       "    </tr>\n",
       "    <tr>\n",
       "      <th>22</th>\n",
       "      <td>3.250473</td>\n",
       "      <td>1.064671</td>\n",
       "      <td>3.114850</td>\n",
       "      <td>1.988516</td>\n",
       "      <td>4.317710</td>\n",
       "      <td>1.699075</td>\n",
       "      <td>1.638185</td>\n",
       "      <td>3.690671</td>\n",
       "      <td>0.011272</td>\n",
       "      <td>2.297644</td>\n",
       "      <td>...</td>\n",
       "      <td>0.033088</td>\n",
       "      <td>0.028520</td>\n",
       "      <td>0.180317</td>\n",
       "      <td>0.117520</td>\n",
       "      <td>0.372730</td>\n",
       "      <td>0.222691</td>\n",
       "      <td>1.058080</td>\n",
       "      <td>64.633034</td>\n",
       "      <td>4.346110</td>\n",
       "      <td>2.527302</td>\n",
       "    </tr>\n",
       "    <tr>\n",
       "      <th>23</th>\n",
       "      <td>1.776676</td>\n",
       "      <td>0.956808</td>\n",
       "      <td>2.507398</td>\n",
       "      <td>4.332216</td>\n",
       "      <td>1.987019</td>\n",
       "      <td>4.159288</td>\n",
       "      <td>4.240141</td>\n",
       "      <td>2.826007</td>\n",
       "      <td>0.238345</td>\n",
       "      <td>2.176826</td>\n",
       "      <td>...</td>\n",
       "      <td>0.183053</td>\n",
       "      <td>0.071088</td>\n",
       "      <td>0.146291</td>\n",
       "      <td>0.089241</td>\n",
       "      <td>0.096894</td>\n",
       "      <td>0.026463</td>\n",
       "      <td>0.658889</td>\n",
       "      <td>87.911599</td>\n",
       "      <td>2.653959</td>\n",
       "      <td>3.148054</td>\n",
       "    </tr>\n",
       "    <tr>\n",
       "      <th>24</th>\n",
       "      <td>3.112025</td>\n",
       "      <td>1.041397</td>\n",
       "      <td>3.522870</td>\n",
       "      <td>1.828333</td>\n",
       "      <td>4.201618</td>\n",
       "      <td>1.241629</td>\n",
       "      <td>2.150670</td>\n",
       "      <td>3.597654</td>\n",
       "      <td>0.398924</td>\n",
       "      <td>2.196679</td>\n",
       "      <td>...</td>\n",
       "      <td>0.124884</td>\n",
       "      <td>0.153027</td>\n",
       "      <td>0.164580</td>\n",
       "      <td>0.139376</td>\n",
       "      <td>0.181028</td>\n",
       "      <td>0.106855</td>\n",
       "      <td>1.010910</td>\n",
       "      <td>66.044124</td>\n",
       "      <td>3.482249</td>\n",
       "      <td>2.889722</td>\n",
       "    </tr>\n",
       "  </tbody>\n",
       "</table>\n",
       "<p>25 rows × 148 columns</p>\n",
       "</div>"
      ],
      "text/plain": [
       "    ALTERSKATEGORIE_GROB  ANREDE_KZ  FINANZ_MINIMALIST  FINANZ_SPARER  \\\n",
       "0               2.321369   1.721668           2.432695       3.570639   \n",
       "1               3.982127   1.917544           2.595821       1.440669   \n",
       "2               2.618262   1.517973           3.732440       3.042753   \n",
       "3               1.803819   1.983548           1.121369       4.564144   \n",
       "4               2.932194   1.421813           3.852642       2.263305   \n",
       "5               3.701736   1.890294           4.328326       1.312955   \n",
       "6               3.563798   1.941281           4.395337       1.322742   \n",
       "7               1.704776   1.993556           1.015327       4.481225   \n",
       "8               3.505660   1.937865           3.067243       1.473876   \n",
       "9               1.844267   0.957318           1.723243       4.596814   \n",
       "10              2.383815   1.358052           4.164856       3.202988   \n",
       "11              3.329926   1.395607           4.568675       1.597193   \n",
       "12              3.457727   1.063438           4.931264       1.271762   \n",
       "13              3.461012   1.739771           2.951985       1.869900   \n",
       "14              3.194197   1.049037           3.117851       2.099391   \n",
       "15              3.107061   1.143333           4.642410       1.878435   \n",
       "16              3.063177   1.430348           3.505462       2.349194   \n",
       "17              3.050116   1.415188           4.461299       2.171301   \n",
       "18              2.484662   1.441245           3.936467       2.780964   \n",
       "19              2.999055   1.249149           2.687558       2.357329   \n",
       "20              3.012730   1.967293           2.194371       2.722642   \n",
       "21              1.744705   1.984911           1.965586       4.104344   \n",
       "22              3.250473   1.064671           3.114850       1.988516   \n",
       "23              1.776676   0.956808           2.507398       4.332216   \n",
       "24              3.112025   1.041397           3.522870       1.828333   \n",
       "\n",
       "    FINANZ_VORSORGER  FINANZ_ANLEGER  FINANZ_UNAUFFAELLIGER  FINANZ_HAUSBAUER  \\\n",
       "0           2.762696        3.847186               3.311412          2.936063   \n",
       "1           4.695895        1.765581               1.386264          4.581539   \n",
       "2           3.040806        3.364051               3.197570          1.624937   \n",
       "3           2.231903        4.598864               4.103308          4.158754   \n",
       "4           3.602871        2.619539               2.437503          2.482112   \n",
       "5           4.483863        2.339366               1.740863          2.602555   \n",
       "6           4.477865        1.863410               1.907809          2.479680   \n",
       "7           2.109841        4.293491               3.770936          4.466163   \n",
       "8           4.571395        1.623246               1.955072          4.180806   \n",
       "9           1.899091        3.754814               3.979492          3.717228   \n",
       "10          2.532077        3.010264               3.577734          1.035619   \n",
       "11          4.275955        2.292790               1.856676          2.265968   \n",
       "12          4.632309        1.149842               1.871747          2.252154   \n",
       "13          4.158193        2.949962               1.648752          3.971537   \n",
       "14          4.176363        1.704890               1.794419          3.446511   \n",
       "15          3.984828        2.319895               2.008520          1.900335   \n",
       "16          3.754144        2.481329               2.493840          2.997213   \n",
       "17          3.723487        2.869754               2.208815          1.759995   \n",
       "18          2.838958        2.876313               3.310215          1.374248   \n",
       "19          3.752062        1.982760               1.619007          3.839239   \n",
       "20          3.614407        2.877846               2.248225          3.775712   \n",
       "21          2.155900        4.608480               4.165088          3.101976   \n",
       "22          4.317710        1.699075               1.638185          3.690671   \n",
       "23          1.987019        4.159288               4.240141          2.826007   \n",
       "24          4.201618        1.241629               2.150670          3.597654   \n",
       "\n",
       "    GREEN_AVANTGARDE  HEALTH_TYP            ...              \\\n",
       "0           0.184588    2.236171            ...               \n",
       "1          -0.012025    1.797127            ...               \n",
       "2           0.392855    2.270666            ...               \n",
       "3           0.026084    2.228434            ...               \n",
       "4           0.392549    2.186873            ...               \n",
       "5          -0.019280    1.979540            ...               \n",
       "6           0.942719    2.062662            ...               \n",
       "7           0.037514    2.171826            ...               \n",
       "8           0.378937    2.152208            ...               \n",
       "9           0.067717    2.335150            ...               \n",
       "10          0.989642    2.386365            ...               \n",
       "11          0.024410    2.172081            ...               \n",
       "12          0.966716    1.859450            ...               \n",
       "13          0.079529    2.067537            ...               \n",
       "14          0.004653    2.400729            ...               \n",
       "15          0.001234    2.310861            ...               \n",
       "16          0.679381    2.196182            ...               \n",
       "17          0.019636    2.170752            ...               \n",
       "18          0.115228    2.288221            ...               \n",
       "19          0.020308    2.391116            ...               \n",
       "20          0.013410    2.444269            ...               \n",
       "21          0.196904    2.267036            ...               \n",
       "22          0.011272    2.297644            ...               \n",
       "23          0.238345    2.176826            ...               \n",
       "24          0.398924    2.196679            ...               \n",
       "\n",
       "    CAMEO_DEUG_2015_4  CAMEO_DEUG_2015_5  CAMEO_DEUG_2015_6  \\\n",
       "0            0.153578           0.099367           0.128372   \n",
       "1           -0.010073          -0.017541           0.201351   \n",
       "2            0.244622           0.096887           0.088307   \n",
       "3            0.130808           0.054289           0.190841   \n",
       "4            0.216103           0.057333           0.156191   \n",
       "5            0.238835           0.076479           0.139211   \n",
       "6            0.177952           0.067201           0.088395   \n",
       "7            0.004508           0.066462           0.069290   \n",
       "8            0.125888           0.142901           0.195722   \n",
       "9            0.030910           0.043743           0.097619   \n",
       "10           0.159117           0.044130           0.148389   \n",
       "11           0.209035           0.082283           0.134383   \n",
       "12           0.177071           0.065110           0.101242   \n",
       "13           0.161419           0.082510           0.199384   \n",
       "14           0.036045           0.036660           0.139308   \n",
       "15           0.226008           0.082624           0.151249   \n",
       "16           0.126248           0.256789          -0.015140   \n",
       "17           0.268743           0.088858           0.111596   \n",
       "18           0.211365           0.140048           0.141448   \n",
       "19          -0.002154           0.054863           0.043951   \n",
       "20           0.039638           0.055920           0.120948   \n",
       "21           0.208353           0.083441           0.125880   \n",
       "22           0.033088           0.028520           0.180317   \n",
       "23           0.183053           0.071088           0.146291   \n",
       "24           0.124884           0.153027           0.164580   \n",
       "\n",
       "    CAMEO_DEUG_2015_7  CAMEO_DEUG_2015_8  CAMEO_DEUG_2015_9  \\\n",
       "0            0.091656           0.140787           0.124805   \n",
       "1            0.159530           0.373254           0.206091   \n",
       "2            0.035321           0.061363           0.036015   \n",
       "3            0.106314           0.184589           0.146370   \n",
       "4            0.113816           0.042364           0.025322   \n",
       "5            0.099826           0.045461           0.009623   \n",
       "6            0.015315           0.042270           0.027117   \n",
       "7            0.135098           0.340078           0.397917   \n",
       "8            0.144215           0.139460           0.053473   \n",
       "9            0.127726           0.309218           0.349655   \n",
       "10           0.053764           0.062063          -0.004495   \n",
       "11           0.085972           0.037037          -0.000733   \n",
       "12           0.007636           0.034407           0.041206   \n",
       "13           0.104532           0.204868           0.047784   \n",
       "14           0.133590           0.320933           0.269917   \n",
       "15           0.080729           0.046647           0.018185   \n",
       "16           0.099786           0.194404           0.053613   \n",
       "17           0.065902           0.033626           0.015023   \n",
       "18           0.095477           0.065261           0.024574   \n",
       "19           0.073747           0.270411           0.561044   \n",
       "20           0.162766           0.318921           0.226008   \n",
       "21           0.076906           0.031688           0.030682   \n",
       "22           0.117520           0.372730           0.222691   \n",
       "23           0.089241           0.096894           0.026463   \n",
       "24           0.139376           0.181028           0.106855   \n",
       "\n",
       "    PRAEGENDE_JUGENDJAHRE_MOVEMENT  PRAEGENDE_JUGENDJAHRE_GEN_BY_DECADE  \\\n",
       "0                         0.908829                            84.022810   \n",
       "1                         1.185971                            57.622466   \n",
       "2                         0.619252                            81.857815   \n",
       "3                         1.008154                            86.639050   \n",
       "4                         1.108066                            71.374581   \n",
       "5                         1.264492                            60.642029   \n",
       "6                         1.204238                            62.143977   \n",
       "7                         0.996525                            85.915784   \n",
       "8                         1.135275                            62.159007   \n",
       "9                         0.907991                            88.135335   \n",
       "10                        0.491125                            82.581999   \n",
       "11                        1.202797                            64.234727   \n",
       "12                        1.297910                            60.873999   \n",
       "13                        0.999036                            64.426198   \n",
       "14                        1.000386                            65.940735   \n",
       "15                        1.052568                            67.290214   \n",
       "16                        0.541005                            67.661661   \n",
       "17                        1.038376                            71.700770   \n",
       "18                        0.741139                            78.076546   \n",
       "19                        0.858964                            68.737800   \n",
       "20                        0.932691                            71.943942   \n",
       "21                        0.652953                            86.888771   \n",
       "22                        1.058080                            64.633034   \n",
       "23                        0.658889                            87.911599   \n",
       "24                        1.010910                            66.044124   \n",
       "\n",
       "    CAMEO_INTL_2015_wealth  CAMEO_INTL_2015_lifestage  \n",
       "0                 3.180549                   2.829334  \n",
       "1                 4.375900                   2.824969  \n",
       "2                 2.370135                   3.135180  \n",
       "3                 3.516554                   2.791191  \n",
       "4                 2.554010                   3.187994  \n",
       "5                 2.520286                   3.372966  \n",
       "6                 2.004532                   3.667052  \n",
       "7                 4.597186                   1.777342  \n",
       "8                 3.247210                   3.264528  \n",
       "9                 4.395626                   2.003851  \n",
       "10                2.191866                   3.317014  \n",
       "11                2.392407                   3.391492  \n",
       "12                2.019480                   3.625797  \n",
       "13                3.354705                   3.110484  \n",
       "14                4.283477                   2.318422  \n",
       "15                2.520020                   3.248347  \n",
       "16                2.737332                   3.524941  \n",
       "17                2.373967                   3.225207  \n",
       "18                2.736606                   3.041744  \n",
       "19                4.691685                   1.949971  \n",
       "20                4.170589                   2.341982  \n",
       "21                2.391030                   3.206417  \n",
       "22                4.346110                   2.527302  \n",
       "23                2.653959                   3.148054  \n",
       "24                3.482249                   2.889722  \n",
       "\n",
       "[25 rows x 148 columns]"
      ]
     },
     "execution_count": 73,
     "metadata": {},
     "output_type": "execute_result"
    }
   ],
   "source": [
    "# What kinds of people are part of a cluster that is overrepresented in the\n",
    "# customer data compared to the general population?\n",
    "cluster_specs = pd.DataFrame(scaler.inverse_transform(pca.inverse_transform(kmeans.cluster_centers_)), columns=azdias_rows__missing_low.columns)\n",
    "cluster_specs"
   ]
  },
  {
   "cell_type": "code",
   "execution_count": 75,
   "metadata": {},
   "outputs": [
    {
     "data": {
      "image/png": "[encoded data removed]",
      "text/plain": [
       "<matplotlib.figure.Figure at 0x7fd3002810b8>"
      ]
     },
     "metadata": {
      "needs_background": "light"
     },
     "output_type": "display_data"
    }
   ],
   "source": [
    "weight_mapper(azdias_rows__missing_low, pca, 12) #checking if cluster 14 maps to same features for both customer and general population"
   ]
  },
  {
   "cell_type": "code",
   "execution_count": 76,
   "metadata": {},
   "outputs": [
    {
     "data": {
      "image/png": "[encoded data removed]",
      "text/plain": [
       "<matplotlib.figure.Figure at 0x7fd2ee424860>"
      ]
     },
     "metadata": {
      "needs_background": "light"
     },
     "output_type": "display_data"
    }
   ],
   "source": [
    "#mapping most overrepresented customer clsuter to top 10/bottom 10 features\n",
    "weight_mapper(customer_data_clean, pca, 12)"
   ]
  },
  {
   "cell_type": "code",
   "execution_count": 77,
   "metadata": {},
   "outputs": [
    {
     "data": {
      "image/png": "[encoded data removed]",
      "text/plain": [
       "<matplotlib.figure.Figure at 0x7fd3002e8518>"
      ]
     },
     "metadata": {
      "needs_background": "light"
     },
     "output_type": "display_data"
    }
   ],
   "source": [
    "weight_mapper(customer_data_clean, pca, 5)"
   ]
  },
  {
   "cell_type": "code",
   "execution_count": 78,
   "metadata": {},
   "outputs": [
    {
     "data": {
      "image/png": "[encoded data removed]",
      "text/plain": [
       "<matplotlib.figure.Figure at 0x7fd30d022160>"
      ]
     },
     "metadata": {
      "needs_background": "light"
     },
     "output_type": "display_data"
    }
   ],
   "source": [
    "# What kinds of people are part of a cluster that is underrepresented in the\n",
    "# customer data compared to the general population?\n",
    "#mapping most underrepresented customer clsuter to top 10/bottom 10 features\n",
    "weight_mapper(customer_data_clean, pca, 9)"
   ]
  },
  {
   "cell_type": "code",
   "execution_count": 79,
   "metadata": {},
   "outputs": [
    {
     "data": {
      "image/png": "[encoded data removed]",
      "text/plain": [
       "<matplotlib.figure.Figure at 0x7fd2ef190550>"
      ]
     },
     "metadata": {
      "needs_background": "light"
     },
     "output_type": "display_data"
    }
   ],
   "source": [
    "weight_mapper(customer_data_clean, pca, 7)"
   ]
  },
  {
   "cell_type": "markdown",
   "metadata": {},
   "source": [
    "### Discussion 3.3: Compare Customer Data to Demographics Data\n",
    "\n",
    "#### Popular customer segment\n",
    "\n",
    "- The distribution overlay plot of the customer and general population data shows that clusters 12, 5 amd 6 in descending order are most over represented in the customers. This is indicated by large positive differences in the proportion of customer minus general population as shown in the difference table. \n",
    "\n",
    "    - Cluster 12 is comprised of individuals who are single parents with teenage or older kids, independent workers and reside in 3-5 family houses in micorcell \n",
    "    - Cluster 5 is positively correlated to purchaising power, bigger family size and inconspicous financial status. People in this cluster are houseowners.\n",
    "\n",
    "#### Unpoplar customer segment\n",
    "- The most underrepresented groups in the customers are the people belonging to clusters 9,7 and 3 as shown in the distribution plot and represented by high negative difference in the proportions (customer - population).\n",
    "\n",
    "    - Cluster 9 is comprised of individuals who are couples, mostly low income earners and some average to mid income earners.\n",
    "    - Cluster 7 is comprised of individuals who are independent workers. \n",
    "    \n",
    "\n",
    "\n",
    "This analysis indicates that the primary customers of this business are financially well off individuals who are well settled in their personal and business lives, whereas the underrepresented groups comprises primarily of the lower middle class."
   ]
  },
  {
   "cell_type": "markdown",
   "metadata": {},
   "source": [
    "> Congratulations on making it this far in the project! Before you finish, make sure to check through the entire notebook from top to bottom to make sure that your analysis follows a logical flow and all of your findings are documented in **Discussion** cells. Once you've checked over all of your work, you should export the notebook as an HTML document to submit for evaluation. You can do this from the menu, navigating to **File -> Download as -> HTML (.html)**. You will submit both that document and this notebook for your project submission."
   ]
  },
  {
   "cell_type": "code",
   "execution_count": null,
   "metadata": {},
   "outputs": [],
   "source": []
  },
  {
   "cell_type": "code",
   "execution_count": null,
   "metadata": {},
   "outputs": [],
   "source": []
  }
 ],
 "metadata": {
  "kernelspec": {
   "display_name": "Python 3",
   "language": "python",
   "name": "python3"
  },
  "language_info": {
   "codemirror_mode": {
    "name": "ipython",
    "version": 3
   },
   "file_extension": ".py",
   "mimetype": "text/x-python",
   "name": "python",
   "nbconvert_exporter": "python",
   "pygments_lexer": "ipython3",
   "version": "3.6.3"
  }
 },
 "nbformat": 4,
 "nbformat_minor": 2
}
